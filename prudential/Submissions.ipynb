{
 "cells": [
  {
   "cell_type": "markdown",
   "metadata": {},
   "source": [
    "Using 5-fold cv\n",
    "## sub01: (Avg 0.6566, Std 0.0050) Local, (0.66011) LB\n",
    "\n",
    "    param = {   'objective': 'reg:linear',\n",
    "                'eval_metric': 'rmse',\n",
    "                'booster': 'gbtree',\n",
    "                'nthread': 4,\n",
    "                'max_depth': 11,\n",
    "                'colsample_bytree':0.3,\n",
    "                'subsample': 0.5,\n",
    "                'eta': 0.03,\n",
    "                'min_child_weight':50\n",
    "            }\n",
    "    num_round = 500"
   ]
  },
  {
   "cell_type": "markdown",
   "metadata": {},
   "source": [
    "## sub02: (Avg 0.6573, Std 0.0080) Local, (0.66428) LB\n",
    "- onehot\n",
    "\n",
    "    param = {   'objective': 'reg:linear',\n",
    "                'eval_metric': 'rmse',\n",
    "                'booster': 'gbtree',\n",
    "                'nthread': 4,\n",
    "                'max_depth': 8,\n",
    "                'colsample_bytree':0.3,\n",
    "                'subsample': 0.5,\n",
    "                'eta': 0.01,\n",
    "                'min_child_weight':50\n",
    "            }\n",
    "    num_round = 1000"
   ]
  },
  {
   "cell_type": "markdown",
   "metadata": {
    "collapsed": true
   },
   "source": [
    "## sub03: (Avg 0.6575, Std 0.0091) Local, (0.66422) LB\n",
    "- onehot_nansum\n",
    "\n",
    "    param = {   'objective': 'reg:linear',\n",
    "                'eval_metric': 'rmse',\n",
    "                'booster': 'gbtree',\n",
    "                'nthread': 4,\n",
    "                'max_depth': 9,\n",
    "                'colsample_bytree':0.3,\n",
    "                'subsample': 0.5,\n",
    "                'eta': 0.01,\n",
    "                'min_child_weight':50\n",
    "            }\n",
    "    num_round = 1000"
   ]
  },
  {
   "cell_type": "markdown",
   "metadata": {},
   "source": [
    "## sub04: (Avg 0.6578, Std 0.0090) Local, (0.66387) LB\n",
    "- eng (onehot, nansum, age-wt-ht)\n",
    "\n",
    "    param = {   'objective': 'reg:linear',\n",
    "                'eval_metric': 'rmse',\n",
    "                'booster': 'gbtree',\n",
    "                'nthread': 4,\n",
    "                'max_depth': 9,\n",
    "                'colsample_bytree':0.3,\n",
    "                'subsample': 0.5,\n",
    "                'eta': 0.01,\n",
    "                'min_child_weight':50\n",
    "            }\n",
    "     num_round = 1000"
   ]
  },
  {
   "cell_type": "markdown",
   "metadata": {},
   "source": [
    "## sub05: (Avg 0.6592, Std 0.0091) Local, (0.66786) LB\n",
    "- eng (onehot, nansum, age-wt-ht)\n",
    "\n",
    "    param = {   'objective': 'reg:linear',\n",
    "                'eval_metric': 'rmse',\n",
    "                'booster': 'gbtree',\n",
    "                'nthread': 4,\n",
    "                'max_depth': 9,\n",
    "                'colsample_bytree':0.3,\n",
    "                'subsample': 0.5,\n",
    "                'eta': 0.01,\n",
    "                'min_child_weight':50\n",
    "            }\n",
    "    num_round = 3000"
   ]
  },
  {
   "cell_type": "markdown",
   "metadata": {
    "collapsed": true
   },
   "source": [
    "## sub06 (Avg 0.6595, Std 0.0069) Local, (0.66721) LB\n",
    "- eng (onehot,nansum, age-wt-ht)\n",
    "\n",
    "    param = {   'objective': 'reg:linear',\n",
    "                'eval_metric': 'rmse',\n",
    "                'booster': 'gbtree',\n",
    "                'nthread': 4,\n",
    "                'max_depth': 7,\n",
    "                'colsample_bytree':0.3,\n",
    "                'subsample': 0.5,\n",
    "                'eta': 0.01,\n",
    "                'min_child_weight':50\n",
    "            }\n",
    "    num_round = 2700"
   ]
  },
  {
   "cell_type": "markdown",
   "metadata": {
    "collapsed": true
   },
   "source": [
    "## avg_sub01 (0.66547) LB\n",
    "- average submissions 1-6 equal weight\n",
    "\n",
    "## avg_sub02 (0.66797) LB\n",
    "- average submissions 1-6, 5 counted 4 times\n",
    "\n",
    "## avg_sub03 (0.66734) LB\n",
    "- average submissions 1-6, 5 counted 3 times\n",
    "\n",
    "## avg_sub04 (0.66848) LB\n",
    "- average submissions 1-6, 5 counted 5 times"
   ]
  },
  {
   "cell_type": "code",
   "execution_count": null,
   "metadata": {
    "collapsed": true
   },
   "outputs": [],
   "source": []
  }
 ],
 "metadata": {
  "kernelspec": {
   "display_name": "Python 3",
   "language": "python",
   "name": "python3"
  },
  "language_info": {
   "codemirror_mode": {
    "name": "ipython",
    "version": 3
   },
   "file_extension": ".py",
   "mimetype": "text/x-python",
   "name": "python",
   "nbconvert_exporter": "python",
   "pygments_lexer": "ipython3",
   "version": "3.5.0"
  }
 },
 "nbformat": 4,
 "nbformat_minor": 0
}
