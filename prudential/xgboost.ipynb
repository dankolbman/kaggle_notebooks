{
 "cells": [
  {
   "cell_type": "code",
   "execution_count": 3,
   "metadata": {
    "collapsed": false
   },
   "outputs": [],
   "source": [
    "import pandas as pd \n",
    "import matplotlib.pyplot as plt\n",
    "import numpy as np \n",
    "import xgboost as xgb\n",
    "import seaborn as sns\n",
    "from sklearn import preprocessing, cross_validation\n",
    "from ml_metrics import quadratic_weighted_kappa\n",
    "from scipy.optimize import fmin_powell, fmin\n",
    "\n",
    "%matplotlib inline"
   ]
  },
  {
   "cell_type": "code",
   "execution_count": null,
   "metadata": {
    "collapsed": false
   },
   "outputs": [],
   "source": [
    "X = pd.read_csv('basic_features_train.csv')\n",
    "Y = pd.read_csv('basic_features_labels.csv', header=None, index_col=0)\n",
    "X_test = pd.read_csv('basic_features_test.csv')\n",
    "Y = Y[1].as_matrix()"
   ]
  },
  {
   "cell_type": "code",
   "execution_count": 2,
   "metadata": {
    "collapsed": true
   },
   "outputs": [],
   "source": [
    "X = pd.read_csv('onehot_features_train.csv')\n",
    "Y = pd.read_csv('onehot_features_labels.csv', header=None, index_col=0)\n",
    "X_test = pd.read_csv('onehot_features_test.csv')\n",
    "Y = Y[1].as_matrix()"
   ]
  },
  {
   "cell_type": "code",
   "execution_count": 5,
   "metadata": {
    "collapsed": false
   },
   "outputs": [],
   "source": [
    "X = pd.read_csv('onehot_nansum_features_train.csv')\n",
    "Y = pd.read_csv('onehot_nansum_features_labels.csv', header=None, index_col=0)\n",
    "X_test = pd.read_csv('onehot_nansum_features_test.csv')\n",
    "Y = Y[1].as_matrix()"
   ]
  },
  {
   "cell_type": "code",
   "execution_count": 24,
   "metadata": {
    "collapsed": true
   },
   "outputs": [],
   "source": [
    "X = pd.read_csv('onehot_eng_features_train.csv')\n",
    "Y = pd.read_csv('onehot_eng_features_labels.csv', header=None, index_col=0)\n",
    "X_test = pd.read_csv('onehot_eng_features_test.csv')\n",
    "Y = Y[1].as_matrix()"
   ]
  },
  {
   "cell_type": "code",
   "execution_count": 25,
   "metadata": {
    "collapsed": false
   },
   "outputs": [
    {
     "name": "stdout",
     "output_type": "stream",
     "text": [
      "(59381, 977) (19765, 977) (59381,)\n"
     ]
    }
   ],
   "source": [
    "print(X.shape, X_test.shape, Y.shape)"
   ]
  },
  {
   "cell_type": "code",
   "execution_count": 6,
   "metadata": {
    "collapsed": true
   },
   "outputs": [],
   "source": [
    "def eval_wrapper(yhat, y):  \n",
    "    y = np.array(y)\n",
    "    y = y.astype(int)\n",
    "    yhat = np.array(yhat)\n",
    "    yhat = np.clip(np.round(yhat), np.min(y), np.max(y)).astype(int)   \n",
    "    return quadratic_weighted_kappa(yhat, y)"
   ]
  },
  {
   "cell_type": "code",
   "execution_count": 7,
   "metadata": {
    "collapsed": true
   },
   "outputs": [],
   "source": [
    "def apply_offset(data, bin_offset, sv, scorer=eval_wrapper):\n",
    "    # data has the format of pred=0, offset_pred=1, labels=2 in the first dim\n",
    "    data[1, data[0].astype(int)==sv] = data[0, data[0].astype(int)==sv] + bin_offset\n",
    "    score = scorer(data[1], data[2])\n",
    "    return score"
   ]
  },
  {
   "cell_type": "code",
   "execution_count": 48,
   "metadata": {
    "collapsed": false,
    "scrolled": true
   },
   "outputs": [
    {
     "name": "stdout",
     "output_type": "stream",
     "text": [
      "Optimization terminated successfully.\n",
      "         Current function value: -0.684509\n",
      "         Iterations: 1\n",
      "         Function evaluations: 14\n",
      "Optimization terminated successfully.\n",
      "         Current function value: -0.688317\n",
      "         Iterations: 1\n",
      "         Function evaluations: 14\n",
      "Optimization terminated successfully.\n",
      "         Current function value: -0.704946\n",
      "         Iterations: 2\n",
      "         Function evaluations: 40\n",
      "Optimization terminated successfully.\n",
      "         Current function value: -0.717137\n",
      "         Iterations: 2\n",
      "         Function evaluations: 48\n",
      "Optimization terminated successfully.\n",
      "         Current function value: -0.720807\n",
      "         Iterations: 2\n",
      "         Function evaluations: 35\n",
      "Optimization terminated successfully.\n",
      "         Current function value: -0.721101\n",
      "         Iterations: 2\n",
      "         Function evaluations: 48\n",
      "Optimization terminated successfully.\n",
      "         Current function value: -0.724702\n",
      "         Iterations: 2\n",
      "         Function evaluations: 49\n",
      "Optimization terminated successfully.\n",
      "         Current function value: -0.737863\n",
      "         Iterations: 2\n",
      "         Function evaluations: 38\n",
      "Fold 1 scored 0.6568219977617682\n",
      "Optimization terminated successfully.\n",
      "         Current function value: -0.684571\n",
      "         Iterations: 1\n",
      "         Function evaluations: 14\n",
      "Optimization terminated successfully.\n",
      "         Current function value: -0.688473\n",
      "         Iterations: 1\n",
      "         Function evaluations: 14\n",
      "Optimization terminated successfully.\n",
      "         Current function value: -0.705013\n",
      "         Iterations: 2\n",
      "         Function evaluations: 40\n",
      "Optimization terminated successfully.\n",
      "         Current function value: -0.718320\n",
      "         Iterations: 2\n",
      "         Function evaluations: 50\n",
      "Optimization terminated successfully.\n",
      "         Current function value: -0.721701\n",
      "         Iterations: 2\n",
      "         Function evaluations: 37\n",
      "Optimization terminated successfully.\n",
      "         Current function value: -0.721811\n",
      "         Iterations: 2\n",
      "         Function evaluations: 34\n",
      "Optimization terminated successfully.\n",
      "         Current function value: -0.725496\n",
      "         Iterations: 2\n",
      "         Function evaluations: 51\n",
      "Optimization terminated successfully.\n",
      "         Current function value: -0.738733\n",
      "         Iterations: 2\n",
      "         Function evaluations: 38\n",
      "Fold 2 scored 0.6575363768371175\n",
      "Optimization terminated successfully.\n",
      "         Current function value: -0.684865\n",
      "         Iterations: 1\n",
      "         Function evaluations: 14\n",
      "Optimization terminated successfully.\n",
      "         Current function value: -0.688968\n",
      "         Iterations: 1\n",
      "         Function evaluations: 14\n",
      "Optimization terminated successfully.\n",
      "         Current function value: -0.705192\n",
      "         Iterations: 2\n",
      "         Function evaluations: 40\n",
      "Optimization terminated successfully.\n",
      "         Current function value: -0.717809\n",
      "         Iterations: 2\n",
      "         Function evaluations: 49\n",
      "Optimization terminated successfully.\n",
      "         Current function value: -0.721881\n",
      "         Iterations: 2\n",
      "         Function evaluations: 37\n",
      "Optimization terminated successfully.\n",
      "         Current function value: -0.722108\n",
      "         Iterations: 2\n",
      "         Function evaluations: 48\n",
      "Optimization terminated successfully.\n",
      "         Current function value: -0.725578\n",
      "         Iterations: 2\n",
      "         Function evaluations: 53\n",
      "Optimization terminated successfully.\n",
      "         Current function value: -0.739006\n",
      "         Iterations: 2\n",
      "         Function evaluations: 38\n",
      "Fold 3 scored 0.6582680336708824\n",
      "Optimization terminated successfully.\n",
      "         Current function value: -0.683790\n",
      "         Iterations: 1\n",
      "         Function evaluations: 14\n",
      "Optimization terminated successfully.\n",
      "         Current function value: -0.688052\n",
      "         Iterations: 1\n",
      "         Function evaluations: 14\n",
      "Optimization terminated successfully.\n",
      "         Current function value: -0.704772\n",
      "         Iterations: 2\n",
      "         Function evaluations: 40\n",
      "Optimization terminated successfully.\n",
      "         Current function value: -0.716816\n",
      "         Iterations: 2\n",
      "         Function evaluations: 44\n",
      "Optimization terminated successfully.\n",
      "         Current function value: -0.720879\n",
      "         Iterations: 2\n",
      "         Function evaluations: 36\n",
      "Optimization terminated successfully.\n",
      "         Current function value: -0.721052\n",
      "         Iterations: 2\n",
      "         Function evaluations: 59\n",
      "Optimization terminated successfully.\n",
      "         Current function value: -0.725444\n",
      "         Iterations: 2\n",
      "         Function evaluations: 54\n",
      "Optimization terminated successfully.\n",
      "         Current function value: -0.737912\n",
      "         Iterations: 2\n",
      "         Function evaluations: 38\n",
      "Fold 4 scored 0.6586707833883605\n",
      "Optimization terminated successfully.\n",
      "         Current function value: -0.682527\n",
      "         Iterations: 1\n",
      "         Function evaluations: 14\n",
      "Optimization terminated successfully.\n",
      "         Current function value: -0.686399\n",
      "         Iterations: 1\n",
      "         Function evaluations: 14\n",
      "Optimization terminated successfully.\n",
      "         Current function value: -0.703672\n",
      "         Iterations: 2\n",
      "         Function evaluations: 40\n",
      "Optimization terminated successfully.\n",
      "         Current function value: -0.716224\n",
      "         Iterations: 2\n",
      "         Function evaluations: 53\n",
      "Optimization terminated successfully.\n",
      "         Current function value: -0.719976\n",
      "         Iterations: 2\n",
      "         Function evaluations: 63\n",
      "Optimization terminated successfully.\n",
      "         Current function value: -0.720113\n",
      "         Iterations: 2\n",
      "         Function evaluations: 51\n",
      "Optimization terminated successfully.\n",
      "         Current function value: -0.724253\n",
      "         Iterations: 2\n",
      "         Function evaluations: 48\n",
      "Optimization terminated successfully.\n",
      "         Current function value: -0.736859\n",
      "         Iterations: 2\n",
      "         Function evaluations: 38\n",
      "Fold 5 scored 0.6663282978976042\n",
      "Avg 0.6595250979111466, Std 0.006919847153895094\n"
     ]
    }
   ],
   "source": [
    "param = {   'objective': 'reg:linear',\n",
    "            'eval_metric': 'rmse',\n",
    "            'booster': 'gbtree',\n",
    "            'nthread': 4,\n",
    "            'max_depth': 7,\n",
    "            'colsample_bytree':0.3,\n",
    "            'subsample': 0.5,\n",
    "            'eta': 0.01,\n",
    "            'min_child_weight':50\n",
    "        }\n",
    "np.random.seed(8888)\n",
    "\n",
    "skf = cross_validation.StratifiedKFold(Y, n_folds=5)\n",
    "\n",
    "num_round = 2700\n",
    "scores = []\n",
    "\n",
    "num_classes = Y.max()\n",
    "\n",
    "for i, (train_index, test_index) in enumerate(skf):\n",
    "    xg_train = xgb.DMatrix( X.iloc[train_index].as_matrix(), label=Y[train_index])\n",
    "    xg_test = xgb.DMatrix( X.iloc[test_index].as_matrix())\n",
    "    # Train model\n",
    "    bst = xgb.train(param, xg_train, num_round)\n",
    "    # Predict model on train\n",
    "    y = bst.predict(xg_train, ntree_limit=bst.best_iteration)\n",
    "    y = np.clip(y, -0.99, 8.99)\n",
    "    \n",
    "    # Find the thresholds that give the best score\n",
    "    offsets = np.ones(num_classes) * -0.5\n",
    "    offset_train_preds = np.vstack((y, y, Y[train_index]))\n",
    "    for j in range(num_classes):\n",
    "        train_offset = lambda x: -apply_offset(offset_train_preds, x, j)\n",
    "        offsets[j] = fmin_powell(train_offset, offsets[j], disp=True)\n",
    "    \n",
    "    # Predict model on test\n",
    "    y = bst.predict(xg_test, ntree_limit=bst.best_iteration)\n",
    "    # Apply offsets found from optimizing on the train\n",
    "    data = np.vstack((y, y ))\n",
    "    for j in range(num_classes):\n",
    "        data[1, data[0].astype(int)==j] = data[0, data[0].astype(int)==j] + offsets[j]\n",
    "        \n",
    "    final_test_preds = np.round(np.clip(data[1], 1, 8)).astype(int)\n",
    "    \n",
    "    score = eval_wrapper(Y[test_index], final_test_preds)\n",
    "    print('Fold {} scored {}'.format(i+1, score))\n",
    "    scores.append(score)\n",
    "print('Avg {}, Std {}'.format(np.mean(scores), np.std(scores)*2))"
   ]
  },
  {
   "cell_type": "code",
   "execution_count": 49,
   "metadata": {
    "collapsed": false,
    "scrolled": true
   },
   "outputs": [
    {
     "name": "stdout",
     "output_type": "stream",
     "text": [
      "Optimization terminated successfully.\n",
      "         Current function value: -0.677192\n",
      "         Iterations: 1\n",
      "         Function evaluations: 14\n",
      "Optimization terminated successfully.\n",
      "         Current function value: -0.681116\n",
      "         Iterations: 1\n",
      "         Function evaluations: 14\n",
      "Optimization terminated successfully.\n",
      "         Current function value: -0.698206\n",
      "         Iterations: 2\n",
      "         Function evaluations: 40\n",
      "Optimization terminated successfully.\n",
      "         Current function value: -0.710057\n",
      "         Iterations: 2\n",
      "         Function evaluations: 46\n",
      "Optimization terminated successfully.\n",
      "         Current function value: -0.714240\n",
      "         Iterations: 2\n",
      "         Function evaluations: 45\n",
      "Optimization terminated successfully.\n",
      "         Current function value: -0.714314\n",
      "         Iterations: 2\n",
      "         Function evaluations: 49\n",
      "Optimization terminated successfully.\n",
      "         Current function value: -0.718419\n",
      "         Iterations: 2\n",
      "         Function evaluations: 57\n",
      "Optimization terminated successfully.\n",
      "         Current function value: -0.731216\n",
      "         Iterations: 2\n",
      "         Function evaluations: 38\n"
     ]
    }
   ],
   "source": [
    "xg_train = xgb.DMatrix( X.as_matrix(), label=Y )\n",
    "xg_test = xgb.DMatrix( X_test.as_matrix() )\n",
    "# Train model\n",
    "bst = xgb.train(param, xg_train, num_round)\n",
    "# Predict model on train\n",
    "y = bst.predict(xg_train, ntree_limit=bst.best_iteration)\n",
    "\n",
    "# Find the thresholds that give the best score\n",
    "offsets = np.ones(num_classes) * -0.5\n",
    "offset_train_preds = np.vstack((y, y, Y))\n",
    "for j in range(num_classes):\n",
    "    train_offset = lambda x: -apply_offset(offset_train_preds, x, j)\n",
    "    offsets[j] = fmin_powell(train_offset, offsets[j], disp=True)\n",
    "\n",
    "# Predict model on test\n",
    "y = bst.predict(xg_test, ntree_limit=bst.best_iteration)\n",
    "# Apply offsets found from optimizing on the train\n",
    "data = np.vstack((y, y, Y[:len(y)]))\n",
    "for j in range(num_classes):\n",
    "    data[1, data[0].astype(int)==j] = data[0, data[0].astype(int)==j] + offsets[j]\n",
    "\n",
    "final_test_preds = np.round(np.clip(data[1], 1, 8)).astype(int)"
   ]
  },
  {
   "cell_type": "code",
   "execution_count": 50,
   "metadata": {
    "collapsed": false
   },
   "outputs": [
    {
     "name": "stdout",
     "output_type": "stream",
     "text": [
      "19765 19765\n"
     ]
    }
   ],
   "source": [
    "sample = pd.read_csv('sample_submission.csv')\n",
    "print(len(sample), len(final_test_preds))\n",
    "sample.Response = final_test_preds\n",
    "sample.to_csv('submissions/sub07.csv', index=False)"
   ]
  },
  {
   "cell_type": "code",
   "execution_count": null,
   "metadata": {
    "collapsed": true
   },
   "outputs": [],
   "source": []
  }
 ],
 "metadata": {
  "kernelspec": {
   "display_name": "Python 3",
   "language": "python",
   "name": "python3"
  },
  "language_info": {
   "codemirror_mode": {
    "name": "ipython",
    "version": 3
   },
   "file_extension": ".py",
   "mimetype": "text/x-python",
   "name": "python",
   "nbconvert_exporter": "python",
   "pygments_lexer": "ipython3",
   "version": "3.5.0"
  }
 },
 "nbformat": 4,
 "nbformat_minor": 0
}
