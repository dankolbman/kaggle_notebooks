{
 "cells": [
  {
   "cell_type": "code",
   "execution_count": 2,
   "metadata": {
    "collapsed": false
   },
   "outputs": [],
   "source": [
    "import tensorflow as tf"
   ]
  },
  {
   "cell_type": "code",
   "execution_count": 36,
   "metadata": {
    "collapsed": false
   },
   "outputs": [],
   "source": [
    "import numpy as np\n",
    "import pandas as pd\n",
    "from sklearn import preprocessing, cross_validation, metrics\n",
    "import matplotlib.pyplot as plt\n",
    "import seaborn as sns\n",
    "\n",
    "%matplotlib inline"
   ]
  },
  {
   "cell_type": "code",
   "execution_count": 19,
   "metadata": {
    "collapsed": false
   },
   "outputs": [],
   "source": [
    "train_dat = pd.read_csv('train.csv')\n",
    "test_dat = pd.read_csv('test.csv')\n",
    "# Target encoding\n",
    "lbl = preprocessing.LabelEncoder()\n",
    "lbl.fit(list(train_dat.target.values))\n",
    "train_dat.target = lbl.transform(list(train_dat.target.values))\n",
    "# Extract labels\n",
    "train_labels = train_dat.target\n",
    "# Drop labels\n",
    "train_dat = train_dat.drop('target',axis=1)\n",
    "# Drop id columns\n",
    "train_dat = train_dat.drop('id',axis=1)\n",
    "test_dat = test_dat.drop('id',axis=1)"
   ]
  },
  {
   "cell_type": "code",
   "execution_count": 20,
   "metadata": {
    "collapsed": false
   },
   "outputs": [],
   "source": [
    "n_classes = train_labels.nunique()\n",
    "n_features = len(train_dat.columns)"
   ]
  },
  {
   "cell_type": "code",
   "execution_count": 28,
   "metadata": {
    "collapsed": false
   },
   "outputs": [],
   "source": [
    "Y = np.zeros( (len(train_labels), n_classes))\n",
    "for i, v in enumerate(train_labels):\n",
    "    Y[i,v] = 1\n",
    "\n",
    "dev_cutoff = int( len(train_labels)*0.8 )\n",
    "X_dev = train_dat.iloc[:dev_cutoff].as_matrix()\n",
    "Y_dev = Y[:dev_cutoff]\n",
    "\n",
    "X_test = train_dat.iloc[dev_cutoff:].as_matrix()\n",
    "Y_test = Y[dev_cutoff:]"
   ]
  },
  {
   "cell_type": "code",
   "execution_count": 60,
   "metadata": {
    "collapsed": true
   },
   "outputs": [],
   "source": [
    "sess = tf.InteractiveSession()\n",
    "\n",
    "\n",
    "# input layer\n",
    "x = tf.placeholder(\"float\", [None, n_features])\n",
    "W = tf.Variable(tf.zeros([n_features, n_classes]))\n",
    "b = tf.Variable(tf.zeros([n_classes]))\n",
    "y = tf.nn.softmax(tf.matmul(x, W) + b)\n",
    "\n",
    "y_ = tf.placeholder(\"float\", [None, n_classes])\n",
    "cross_entropy = -tf.reduce_sum(y_ * tf.log(y))\n",
    "train_step = tf.train.GradientDescentOptimizer(0.001).minimize(cross_entropy)"
   ]
  },
  {
   "cell_type": "code",
   "execution_count": 62,
   "metadata": {
    "collapsed": false
   },
   "outputs": [
    {
     "name": "stdout",
     "output_type": "stream",
     "text": [
      "0.0\n"
     ]
    }
   ],
   "source": [
    "\n",
    "epochs = 10\n",
    "sss = cross_validation.StratifiedShuffleSplit(Y_dev, 100,\n",
    "                             test_size=0.7, random_state=0)\n",
    "\n",
    "# Train\n",
    "tf.initialize_all_variables().run()\n",
    "for train_index, test_index in sss:\n",
    "    batch_xs, batch_ys = X_dev[train_index], Y_dev[train_index]\n",
    "    train_step.run({x: batch_xs, y_: batch_ys})\n",
    "   \n",
    "    #accuracy = tf.reduce_mean(tf.cast(correct_prediction, \"float\"))\n",
    "\n",
    "correct_prediction = tf.equal(tf.argmax(y, 1), tf.argmax(y_, 1))\n",
    "accuracy = tf.reduce_mean(tf.cast(correct_prediction, \"float\"))\n",
    "print(accuracy.eval({x: X_test, y_: Y_test}))\n",
    "\n",
    "#preds = y.eval({x: X_test, y_: Y_test})\n",
    "#print(metrics.log_loss(Y_test, preds))"
   ]
  },
  {
   "cell_type": "code",
   "execution_count": null,
   "metadata": {
    "collapsed": true
   },
   "outputs": [],
   "source": []
  }
 ],
 "metadata": {
  "kernelspec": {
   "display_name": "Python 3",
   "language": "python",
   "name": "python3"
  },
  "language_info": {
   "codemirror_mode": {
    "name": "ipython",
    "version": 3
   },
   "file_extension": ".py",
   "mimetype": "text/x-python",
   "name": "python",
   "nbconvert_exporter": "python",
   "pygments_lexer": "ipython3",
   "version": "3.5.0"
  }
 },
 "nbformat": 4,
 "nbformat_minor": 0
}
