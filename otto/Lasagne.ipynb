{
 "cells": [
  {
   "cell_type": "code",
   "execution_count": 2,
   "metadata": {
    "collapsed": false
   },
   "outputs": [],
   "source": [
    "import numpy as np\n",
    "import pandas as pd\n",
    "from sklearn import preprocessing\n",
    "import matplotlib.pyplot as plt\n",
    "import seaborn as sns\n",
    "\n",
    "import lasagne\n",
    "import theano\n",
    "import theano.tensor as T\n",
    "\n",
    "%matplotlib inline"
   ]
  },
  {
   "cell_type": "code",
   "execution_count": 3,
   "metadata": {
    "collapsed": true
   },
   "outputs": [],
   "source": [
    "train_dat = pd.read_csv('train.csv')\n",
    "test_dat = pd.read_csv('test.csv')\n",
    "# Target encoding\n",
    "lbl = preprocessing.LabelEncoder()\n",
    "lbl.fit(list(train_dat.target.values))\n",
    "train_dat.target = lbl.transform(list(train_dat.target.values))\n",
    "# Extract labels\n",
    "train_labels = train_dat.target\n",
    "# Drop labels\n",
    "train_dat = train_dat.drop('target',axis=1)\n",
    "# Drop id columns\n",
    "train_dat = train_dat.drop('id',axis=1)\n",
    "test_dat = test_dat.drop('id',axis=1)"
   ]
  },
  {
   "cell_type": "code",
   "execution_count": 19,
   "metadata": {
    "collapsed": true
   },
   "outputs": [],
   "source": [
    "n_classes = train_labels.nunique()\n",
    "n_features = len(train_dat.columns)"
   ]
  },
  {
   "cell_type": "code",
   "execution_count": 37,
   "metadata": {
    "collapsed": false
   },
   "outputs": [],
   "source": [
    "l_in = lasagne.layers.InputLayer((None, n_features))\n",
    "l_in_drop = lasagne.layers.DropoutLayer(l_in, p=0.1)\n",
    "l_hidden = lasagne.layers.DenseLayer(l_in_drop, num_units=400, nonlinearity=lasagne.nonlinearities.sigmoid)\n",
    "l_out = lasagne.layers.DenseLayer(l_hidden, num_units=n_classes,nonlinearity=T.nnet.softmax)\n",
    "\n",
    "net_output = lasagne.layers.get_output(l_out)\n",
    "\n",
    "true_output = T.ivector('true_output')\n",
    "loss = T.mean(lasagne.objectives.categorical_crossentropy(net_output, true_output))"
   ]
  },
  {
   "cell_type": "code",
   "execution_count": 38,
   "metadata": {
    "collapsed": false
   },
   "outputs": [],
   "source": [
    "all_params = lasagne.layers.get_all_params(l_out)\n",
    "updates = lasagne.updates.sgd(loss, all_params, learning_rate=1)\n",
    "\n",
    "train = theano.function([l_in.input_var, true_output], loss, updates=updates)\n",
    "get_output = theano.function([l_in.input_var], net_output)"
   ]
  },
  {
   "cell_type": "code",
   "execution_count": 25,
   "metadata": {
    "collapsed": false
   },
   "outputs": [
    {
     "name": "stdout",
     "output_type": "stream",
     "text": [
      "(61878, 93)\n"
     ]
    }
   ],
   "source": [
    "N = int( len(test_dat)*0.8 )\n",
    "print(train_dat.shape)\n",
    "for i in range(2):\n",
    "    train(train_dat[:N].as_matrix(), train_labels[:N])"
   ]
  },
  {
   "cell_type": "code",
   "execution_count": 28,
   "metadata": {
    "collapsed": false
   },
   "outputs": [
    {
     "name": "stdout",
     "output_type": "stream",
     "text": [
      "[]\n",
      "nan\n"
     ]
    }
   ],
   "source": [
    "y_predicted = np.argmax(get_output(train_dat[N:]), axis=1)\n",
    "print(y_predicted)\n",
    "print(np.mean(y_predicted[N:] == train_labels[N:]))"
   ]
  },
  {
   "cell_type": "code",
   "execution_count": 41,
   "metadata": {
    "collapsed": false
   },
   "outputs": [
    {
     "name": "stdout",
     "output_type": "stream",
     "text": [
      "Epoch 1 validation accuracy: 0.6734218946960148\n",
      "Epoch 2 validation accuracy: 0.6702543715052199\n",
      "Epoch 3 validation accuracy: 0.6721613497527392\n",
      "Epoch 4 validation accuracy: 0.6709977698051004\n",
      "Epoch 5 validation accuracy: 0.671110895633343\n",
      "Epoch 6 validation accuracy: 0.67195125892886\n",
      "Epoch 7 validation accuracy: 0.6740521671676525\n",
      "Epoch 8 validation accuracy: 0.6741491321632891\n",
      "Epoch 9 validation accuracy: 0.6727108180613465\n",
      "Epoch 10 validation accuracy: 0.6731633213743172\n",
      "Epoch 11 validation accuracy: 0.6749248521283816\n",
      "Epoch 12 validation accuracy: 0.6752965512783219\n",
      "Epoch 13 validation accuracy: 0.6774782636801449\n",
      "Epoch 14 validation accuracy: 0.6762985228998998\n",
      "Epoch 15 validation accuracy: 0.680047836064514\n",
      "Epoch 16 validation accuracy: 0.677849962830085\n",
      "Epoch 17 validation accuracy: 0.6803387310514237\n",
      "Epoch 18 validation accuracy: 0.6792074727689971\n",
      "Epoch 19 validation accuracy: 0.6799831927340897\n",
      "Epoch 20 validation accuracy: 0.6815992759946993\n",
      "Epoch 21 validation accuracy: 0.6808073951970005\n",
      "Epoch 22 validation accuracy: 0.6822941917967613\n",
      "Epoch 23 validation accuracy: 0.6809528426904554\n",
      "Epoch 24 validation accuracy: 0.6807912343643945\n",
      "Epoch 25 validation accuracy: 0.6823426742945796\n",
      "Epoch 26 validation accuracy: 0.6819386534794273\n",
      "Epoch 27 validation accuracy: 0.6800801577297262\n",
      "Epoch 28 validation accuracy: 0.6829406251010052\n",
      "Epoch 29 validation accuracy: 0.6828921426031869\n",
      "Epoch 30 validation accuracy: 0.6819224926468211\n",
      "Epoch 31 validation accuracy: 0.6845243866964026\n",
      "Epoch 32 validation accuracy: 0.6850576941724038\n",
      "Epoch 33 validation accuracy: 0.6854132324897378\n",
      "Epoch 34 validation accuracy: 0.6841203658812502\n",
      "Epoch 35 validation accuracy: 0.6865283299395585\n",
      "Epoch 36 validation accuracy: 0.6846698341898575\n",
      "Epoch 37 validation accuracy: 0.6844759041985843\n",
      "Epoch 38 validation accuracy: 0.6863667216134975\n",
      "Epoch 39 validation accuracy: 0.6865121691069523\n",
      "Epoch 40 validation accuracy: 0.6873525324024694\n",
      "Epoch 41 validation accuracy: 0.6871909240764085\n",
      "Epoch 42 validation accuracy: 0.6875303015611365\n",
      "Epoch 43 validation accuracy: 0.691004880571447\n",
      "Epoch 44 validation accuracy: 0.6894211189760496\n",
      "Epoch 45 validation accuracy: 0.6892918323152009\n",
      "Epoch 46 validation accuracy: 0.6886938815087753\n",
      "Epoch 47 validation accuracy: 0.6899382656194447\n",
      "Epoch 48 validation accuracy: 0.6877403923850157\n",
      "Epoch 49 validation accuracy: 0.6915705097126604\n",
      "Epoch 50 validation accuracy: 0.6890494198261095\n",
      "Epoch 51 validation accuracy: 0.6908432722453861\n",
      "Epoch 52 validation accuracy: 0.6905846989236886\n",
      "Epoch 53 validation accuracy: 0.6878696790458645\n",
      "Epoch 54 validation accuracy: 0.68780503571544\n",
      "Epoch 55 validation accuracy: 0.6920391738582372\n",
      "Epoch 56 validation accuracy: 0.6934128446297553\n",
      "Epoch 57 validation accuracy: 0.691505866382236\n",
      "Epoch 58 validation accuracy: 0.6893564756456253\n",
      "Epoch 59 validation accuracy: 0.6894049581434436\n",
      "Epoch 60 validation accuracy: 0.6904069297650215\n",
      "Epoch 61 validation accuracy: 0.6907139855845373\n",
      "Epoch 62 validation accuracy: 0.6928795371537542\n",
      "Epoch 63 validation accuracy: 0.6935906137884223\n",
      "Epoch 64 validation accuracy: 0.6904392514302337\n",
      "Epoch 65 validation accuracy: 0.6951420537186076\n",
      "Epoch 66 validation accuracy: 0.6943824945861211\n",
      "Epoch 67 validation accuracy: 0.692184621351692\n",
      "Epoch 68 validation accuracy: 0.6927987329907237\n",
      "Epoch 69 validation accuracy: 0.6938815087753321\n",
      "Epoch 70 validation accuracy: 0.6936229354536346\n"
     ]
    },
    {
     "ename": "KeyboardInterrupt",
     "evalue": "",
     "output_type": "error",
     "traceback": [
      "\u001b[0;31m---------------------------------------------------------------------------\u001b[0m",
      "\u001b[0;31mKeyboardInterrupt\u001b[0m                         Traceback (most recent call last)",
      "\u001b[0;32m<ipython-input-41-a74652c418f8>\u001b[0m in \u001b[0;36m<module>\u001b[0;34m()\u001b[0m\n\u001b[1;32m      8\u001b[0m     \u001b[0;31m# Extract the training data/label batch and update the parameters with it\u001b[0m\u001b[0;34m\u001b[0m\u001b[0;34m\u001b[0m\u001b[0m\n\u001b[1;32m      9\u001b[0m     train(train_dat.iloc[batch_idx:batch_idx + BATCH_SIZE],\n\u001b[0;32m---> 10\u001b[0;31m           train_labels[batch_idx:batch_idx + BATCH_SIZE])\n\u001b[0m\u001b[1;32m     11\u001b[0m     \u001b[0mbatch_idx\u001b[0m \u001b[0;34m+=\u001b[0m \u001b[0mBATCH_SIZE\u001b[0m\u001b[0;34m\u001b[0m\u001b[0m\n\u001b[1;32m     12\u001b[0m     \u001b[0;31m# Once we've trained on the entire training set...\u001b[0m\u001b[0;34m\u001b[0m\u001b[0;34m\u001b[0m\u001b[0m\n",
      "\u001b[0;32m/usr/local/lib/python3.5/site-packages/theano/compile/function_module.py\u001b[0m in \u001b[0;36m__call__\u001b[0;34m(self, *args, **kwargs)\u001b[0m\n\u001b[1;32m    593\u001b[0m         \u001b[0mt0_fn\u001b[0m \u001b[0;34m=\u001b[0m \u001b[0mtime\u001b[0m\u001b[0;34m.\u001b[0m\u001b[0mtime\u001b[0m\u001b[0;34m(\u001b[0m\u001b[0;34m)\u001b[0m\u001b[0;34m\u001b[0m\u001b[0m\n\u001b[1;32m    594\u001b[0m         \u001b[0;32mtry\u001b[0m\u001b[0;34m:\u001b[0m\u001b[0;34m\u001b[0m\u001b[0m\n\u001b[0;32m--> 595\u001b[0;31m             \u001b[0moutputs\u001b[0m \u001b[0;34m=\u001b[0m \u001b[0mself\u001b[0m\u001b[0;34m.\u001b[0m\u001b[0mfn\u001b[0m\u001b[0;34m(\u001b[0m\u001b[0;34m)\u001b[0m\u001b[0;34m\u001b[0m\u001b[0m\n\u001b[0m\u001b[1;32m    596\u001b[0m         \u001b[0;32mexcept\u001b[0m \u001b[0mException\u001b[0m\u001b[0;34m:\u001b[0m\u001b[0;34m\u001b[0m\u001b[0m\n\u001b[1;32m    597\u001b[0m             \u001b[0;32mif\u001b[0m \u001b[0mhasattr\u001b[0m\u001b[0;34m(\u001b[0m\u001b[0mself\u001b[0m\u001b[0;34m.\u001b[0m\u001b[0mfn\u001b[0m\u001b[0;34m,\u001b[0m \u001b[0;34m'position_of_error'\u001b[0m\u001b[0;34m)\u001b[0m\u001b[0;34m:\u001b[0m\u001b[0;34m\u001b[0m\u001b[0m\n",
      "\u001b[0;31mKeyboardInterrupt\u001b[0m: "
     ]
    }
   ],
   "source": [
    "BATCH_SIZE = 61000\n",
    "N_EPOCHS = 100\n",
    "# Keep track of which batch we're training with\n",
    "batch_idx = 0\n",
    "# Keep track of which epoch we're on\n",
    "epoch = 0\n",
    "while epoch < N_EPOCHS:\n",
    "    # Extract the training data/label batch and update the parameters with it\n",
    "    train(train_dat.iloc[batch_idx:batch_idx + BATCH_SIZE],\n",
    "          train_labels[batch_idx:batch_idx + BATCH_SIZE])\n",
    "    batch_idx += BATCH_SIZE\n",
    "    # Once we've trained on the entire training set...\n",
    "    if batch_idx >= N:\n",
    "        # Reset the batch index\n",
    "        batch_idx = 0\n",
    "        # Update the number of epochs trained\n",
    "        epoch += 1\n",
    "        # Compute the network's output on the validation data\n",
    "        val_output = get_output(train_dat.iloc[:N])\n",
    "        # The predicted class is just the index of the largest probability in the output\n",
    "        val_predictions = np.argmax(val_output, axis=1)\n",
    "        # The accuracy is the average number of correct predictions\n",
    "        accuracy = np.mean(val_predictions == train_labels[:N])\n",
    "        print(\"Epoch {} validation accuracy: {}\".format(epoch, accuracy))"
   ]
  },
  {
   "cell_type": "code",
   "execution_count": 43,
   "metadata": {
    "collapsed": false
   },
   "outputs": [],
   "source": [
    "#xg_pred = xgb.DMatrix( test_dat )\n",
    "\n",
    "# predict on test set\n",
    "preds = get_output(test_dat)\n",
    "\n",
    "samp = pd.read_csv('sampleSubmission.csv')\n",
    "preds = pd.DataFrame(preds, index=samp.id.values, columns=samp.columns[1:])\n",
    "preds.to_csv('submissionLasagne.csv', index_label='id')"
   ]
  },
  {
   "cell_type": "code",
   "execution_count": null,
   "metadata": {
    "collapsed": true
   },
   "outputs": [],
   "source": []
  }
 ],
 "metadata": {
  "kernelspec": {
   "display_name": "Python 3",
   "language": "python",
   "name": "python3"
  },
  "language_info": {
   "codemirror_mode": {
    "name": "ipython",
    "version": 3
   },
   "file_extension": ".py",
   "mimetype": "text/x-python",
   "name": "python",
   "nbconvert_exporter": "python",
   "pygments_lexer": "ipython3",
   "version": "3.5.1"
  }
 },
 "nbformat": 4,
 "nbformat_minor": 0
}
