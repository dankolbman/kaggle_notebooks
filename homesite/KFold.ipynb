{
 "cells": [
  {
   "cell_type": "code",
   "execution_count": 3,
   "metadata": {
    "collapsed": false
   },
   "outputs": [],
   "source": [
    "import os\n",
    "import numpy as np\n",
    "import pandas as pd\n",
    "from sklearn import preprocessing, ensemble, metrics\n",
    "from sklearn.cross_validation import StratifiedKFold\n",
    "from sklearn.linear_model import LogisticRegression\n",
    "import matplotlib.pyplot as plt\n",
    "import seaborn as sns\n",
    "\n",
    "import xgboost as xgb\n",
    "\n",
    "%matplotlib inline"
   ]
  },
  {
   "cell_type": "code",
   "execution_count": 7,
   "metadata": {
    "collapsed": true
   },
   "outputs": [],
   "source": [
    "train_dat = pd.read_csv('train_parsed.csv')\n",
    "test_dat = pd.read_csv('test_parsed.csv')\n",
    "train_labels = np.load('train_labels_parsed.npy')"
   ]
  },
  {
   "cell_type": "code",
   "execution_count": 16,
   "metadata": {
    "collapsed": false
   },
   "outputs": [],
   "source": [
    "dev_cutoff = int( len(train_labels) * 0.999 )\n",
    "X_dev = train_dat[:dev_cutoff]\n",
    "Y_dev = train_labels[:dev_cutoff]\n",
    "X_test = train_dat[dev_cutoff:]\n",
    "Y_test = train_labels[dev_cutoff:]"
   ]
  },
  {
   "cell_type": "code",
   "execution_count": null,
   "metadata": {
    "collapsed": false
   },
   "outputs": [],
   "source": [
    "n_folds = 5\n",
    "\n",
    "skf = list(StratifiedKFold(Y_dev, n_folds))\n",
    "\n",
    "clfs = [ xgb.XGBClassifier(n_estimators=100,objective='binary:logistic', max_depth=6,\n",
    "                           colsample_bytree=0.75, subsample=0.83),\n",
    "         xgb.XGBClassifier(n_estimators=100,objective='binary:logistic', max_depth=8,\n",
    "                           colsample_bytree=0.75, subsample=0.83),\n",
    "         xgb.XGBClassifier(n_estimators=100,objective='binary:logistic', max_depth=12,\n",
    "                           colsample_bytree=0.75, subsample=0.83),\n",
    "         #ensemble.RandomForestClassifier(n_estimators=20, criterion='gini'),\n",
    "         #ensemble.ExtraTreesClassifier(n_estimators=40, criterion='gini')\n",
    "    ]\n",
    "\n",
    "-"
   ]
  },
  {
   "cell_type": "code",
   "execution_count": null,
   "metadata": {
    "collapsed": false
   },
   "outputs": [],
   "source": [
    "pred1 = clfs[0].predict(test_dat)\n",
    "pred2 = clfs[1].predict(test_dat)\n",
    "pred3 = clfs[2].predict(test_dat)\n",
    "print(pred1)\n",
    "pred = bclf.predict(np.concatenate((pred1,pred2,pred3)).reshape(len(pred1),3))"
   ]
  },
  {
   "cell_type": "code",
   "execution_count": null,
   "metadata": {
    "collapsed": false
   },
   "outputs": [],
   "source": [
    "#pred = bclf.predict(test_dat)\n",
    "sample = pd.read_csv('sample_submission.csv')\n",
    "sample.QuoteConversion_Flag = pred\n",
    "sample.to_csv('xgb_stacked.csv', index=False)"
   ]
  },
  {
   "cell_type": "markdown",
   "metadata": {
    "collapsed": true
   },
   "source": [
    "# Blend a couple of models together"
   ]
  },
  {
   "cell_type": "code",
   "execution_count": null,
   "metadata": {
    "collapsed": true
   },
   "outputs": [],
   "source": []
  },
  {
   "cell_type": "code",
   "execution_count": null,
   "metadata": {
    "collapsed": true
   },
   "outputs": [],
   "source": [
    "n_folds = 5\n",
    "\n",
    "skf = list(StratifiedKFold(Y_dev, n_folds))\n",
    "\n",
    "depths = [6]\n",
    "\n",
    "blend_train = np.zeros((X_dev.shape[0], len(depths)))\n",
    "blend_test = np.zeros((X_test.shape[0], len(depths)))\n",
    "\n",
    "for j, depth in enumerate(depths):\n",
    "    print('Training classifier [%s]' % (j))\n",
    "    blend_test_j = np.zeros((X_test.shape[0], len(skf))) # Number of testing data x Number of folds , we will take the mean of the predictions later\n",
    "    for i, (train_index, cv_index) in enumerate(skf):\n",
    "        print('Fold [%s]' % (i))\n",
    "        \n",
    "        param = {   'objective': 'binary:logistic',\n",
    "            'eval_metric': 'auc',\n",
    "            'nthread':4,\n",
    "            'max_depth':depth,\n",
    "            'colsample_bytree':0.75,\n",
    "            'subsample':0.83,\n",
    "            'eta':0.025,\n",
    "        }\n",
    "\n",
    "        # This is the training and validation set    \n",
    "        xg_train = xgb.DMatrix( X_dev.iloc[train_index].as_matrix(), label=Y_dev[train_index])\n",
    "        xg_cv = xgb.DMatrix( Y_dev.iloc[cv_index].as_matrix(), label=train_labels[cv_index])\n",
    "\n",
    "        m = xgb.train(param, xg_train, num_round, watchlist, early_stopping_rounds=150)\n",
    "\n",
    "        # This output will be the basis for our blended classifier to train against,\n",
    "        # which is also the output of our classifiers\n",
    "        blend_train[cv_index, j] = m.predict(X_cv)\n",
    "        blend_test_j[:, i] = m.predict(X_test)\n",
    "        # Take the mean of the predictions of the cross validation set\n",
    "        blend_test[:, j] = blend_test_j.mean(1)\n",
    "    \n",
    "# Take the mean of the predictions of the cross validation set\n",
    "blend_test_mean = blend_test.mean(1)\n",
    "blend_pred_mean = blend_pred.mean(1)\n",
    "\n",
    "# Get accuracy of the test\n"
   ]
  },
  {
   "cell_type": "code",
   "execution_count": null,
   "metadata": {
    "collapsed": false
   },
   "outputs": [],
   "source": [
    "t = pd.DataFrame(blend_test)\n",
    "t['same'] = t.apply(lambda x:not ( x[0] == x[1] == x[2] == x[3] == x[4] ), axis=1 )\n",
    "n = t[t['same'] == True].count()['same']\n",
    "print(n, 'of', len(t), '(', n/len(t), ') are not in agreement')\n",
    "print(blend_test_mean.shape, Y_test.shape)\n",
    "acc = metrics.accuracy_score(blend_test_mean.round().astype('int'), Y_test.astype('int'))\n",
    "print(acc)\n"
   ]
  },
  {
   "cell_type": "code",
   "execution_count": null,
   "metadata": {
    "collapsed": false
   },
   "outputs": [],
   "source": [
    "sample = pd.read_csv('sample_submission.csv')\n",
    "sample.QuoteConversion_Flag = blend_pred_mean.round()\n",
    "sample.to_csv('xgb_kfold.csv', index=False)"
   ]
  }
 ],
 "metadata": {
  "kernelspec": {
   "display_name": "Python 3",
   "language": "python",
   "name": "python3"
  },
  "language_info": {
   "codemirror_mode": {
    "name": "ipython",
    "version": 3
   },
   "file_extension": ".py",
   "mimetype": "text/x-python",
   "name": "python",
   "nbconvert_exporter": "python",
   "pygments_lexer": "ipython3",
   "version": "3.5.0"
  }
 },
 "nbformat": 4,
 "nbformat_minor": 0
}
