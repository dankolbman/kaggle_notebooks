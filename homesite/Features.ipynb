{
 "cells": [
  {
   "cell_type": "code",
   "execution_count": 1,
   "metadata": {
    "collapsed": false
   },
   "outputs": [
    {
     "name": "stderr",
     "output_type": "stream",
     "text": [
      "/usr/lib/python3.5/site-packages/matplotlib/__init__.py:872: UserWarning: axes.color_cycle is deprecated and replaced with axes.prop_cycle; please use the latter.\n",
      "  warnings.warn(self.msg_depr % (key, alt_key))\n"
     ]
    }
   ],
   "source": [
    "import numpy as np\n",
    "import pandas as pd\n",
    "from sklearn import preprocessing, manifold\n",
    "import matplotlib.pyplot as plt\n",
    "import seaborn as sns\n",
    "\n",
    "import xgboost as xgb\n",
    "\n",
    "%matplotlib inline\n",
    "\n",
    "np.random.seed(8888)"
   ]
  },
  {
   "cell_type": "markdown",
   "metadata": {},
   "source": [
    "# Feature building\n",
    "This notebook is for taking the train and test data and building features from it to be fed to models."
   ]
  },
  {
   "cell_type": "markdown",
   "metadata": {},
   "source": [
    "### Basic features"
   ]
  },
  {
   "cell_type": "code",
   "execution_count": 2,
   "metadata": {
    "collapsed": false
   },
   "outputs": [],
   "source": [
    "train_dat = pd.read_csv('train.csv')\n",
    "test_dat = pd.read_csv('test.csv')\n",
    "\n",
    "train_labels = train_dat.QuoteConversion_Flag.values\n",
    "train_dat = train_dat.drop('QuoteConversion_Flag', axis=1)\n",
    "\n",
    "train_dat = train_dat.fillna(-999)\n",
    "test_dat = test_dat.fillna(-999)\n",
    "\n",
    "# Date features\n",
    "train_dat['Original_Quote_Date'] = pd.to_datetime(pd.Series(train_dat['Original_Quote_Date']))\n",
    "test_dat['Original_Quote_Date'] = pd.to_datetime(pd.Series(test_dat['Original_Quote_Date']))\n",
    "\n",
    "train_dat['Year'] = train_dat['Original_Quote_Date'].apply(lambda x: x.year)\n",
    "test_dat['Year'] = test_dat['Original_Quote_Date'].apply(lambda x: x.year)\n",
    "\n",
    "train_dat['Month'] = train_dat['Original_Quote_Date'].apply(lambda x: x.month)\n",
    "test_dat['Month'] = test_dat['Original_Quote_Date'].apply(lambda x: x.month)\n",
    "\n",
    "#train_dat['Week'] = train_dat['Original_Quote_Date'].apply(lambda x: x.week)\n",
    "#test_dat['Week'] = test_dat['Original_Quote_Date'].apply(lambda x: x.week)\n",
    "\n",
    "train_dat['Weekday'] = train_dat['Original_Quote_Date'].apply(lambda x: x.dayofweek)\n",
    "test_dat['Weekday'] = test_dat['Original_Quote_Date'].apply(lambda x: x.dayofweek)\n",
    "\n",
    "\n",
    "# Label encoding \n",
    "for c in train_dat.columns:\n",
    "    if train_dat[c].dtype=='object':\n",
    "        lbl = preprocessing.LabelEncoder()\n",
    "        lbl.fit(list(train_dat[c].values) + list(test_dat[c].values))\n",
    "        train_dat[c] = lbl.transform(list(train_dat[c].values))\n",
    "        test_dat[c] = lbl.transform(list(test_dat[c].values))\n",
    "        \n",
    "train_dat = train_dat.drop('QuoteNumber',axis=1).drop('Original_Quote_Date',axis=1)\n",
    "test_dat = test_dat.drop('QuoteNumber',axis=1).drop('Original_Quote_Date',axis=1)\n",
    "\n",
    "train_dat.to_csv('features/basic_train.csv', index=False)\n",
    "test_dat.to_csv('features/basic_test.csv', index=False)\n",
    "\n",
    "np.save('features/train_labels.npy', train_labels)"
   ]
  },
  {
   "cell_type": "code",
   "execution_count": 3,
   "metadata": {
    "collapsed": false
   },
   "outputs": [],
   "source": [
    "train_dat = pd.read_csv('features/basic_train.csv')\n",
    "test_dat = pd.read_csv('features/basic_test.csv')\n",
    "\n",
    "train_labels = np.load('features/train_labels.npy')"
   ]
  },
  {
   "cell_type": "code",
   "execution_count": 4,
   "metadata": {
    "collapsed": false
   },
   "outputs": [
    {
     "data": {
      "text/html": [
       "<div>\n",
       "<table border=\"1\" class=\"dataframe\">\n",
       "  <thead>\n",
       "    <tr style=\"text-align: right;\">\n",
       "      <th></th>\n",
       "      <th>Field6</th>\n",
       "      <th>Field7</th>\n",
       "      <th>Field8</th>\n",
       "      <th>Field9</th>\n",
       "      <th>Field10</th>\n",
       "      <th>Field11</th>\n",
       "      <th>Field12</th>\n",
       "      <th>CoverageField1A</th>\n",
       "      <th>CoverageField1B</th>\n",
       "      <th>CoverageField2A</th>\n",
       "      <th>...</th>\n",
       "      <th>GeographicField60B</th>\n",
       "      <th>GeographicField61A</th>\n",
       "      <th>GeographicField61B</th>\n",
       "      <th>GeographicField62A</th>\n",
       "      <th>GeographicField62B</th>\n",
       "      <th>GeographicField63</th>\n",
       "      <th>GeographicField64</th>\n",
       "      <th>Year</th>\n",
       "      <th>Month</th>\n",
       "      <th>Weekday</th>\n",
       "    </tr>\n",
       "  </thead>\n",
       "  <tbody>\n",
       "    <tr>\n",
       "      <th>0</th>\n",
       "      <td>1</td>\n",
       "      <td>23</td>\n",
       "      <td>0.9403</td>\n",
       "      <td>0.0006</td>\n",
       "      <td>7</td>\n",
       "      <td>1.0200</td>\n",
       "      <td>0</td>\n",
       "      <td>17</td>\n",
       "      <td>23</td>\n",
       "      <td>17</td>\n",
       "      <td>...</td>\n",
       "      <td>8</td>\n",
       "      <td>-1</td>\n",
       "      <td>18</td>\n",
       "      <td>-1</td>\n",
       "      <td>10</td>\n",
       "      <td>1</td>\n",
       "      <td>0</td>\n",
       "      <td>2013</td>\n",
       "      <td>8</td>\n",
       "      <td>4</td>\n",
       "    </tr>\n",
       "    <tr>\n",
       "      <th>1</th>\n",
       "      <td>5</td>\n",
       "      <td>7</td>\n",
       "      <td>1.0006</td>\n",
       "      <td>0.0040</td>\n",
       "      <td>4</td>\n",
       "      <td>1.2433</td>\n",
       "      <td>0</td>\n",
       "      <td>6</td>\n",
       "      <td>8</td>\n",
       "      <td>6</td>\n",
       "      <td>...</td>\n",
       "      <td>11</td>\n",
       "      <td>-1</td>\n",
       "      <td>17</td>\n",
       "      <td>-1</td>\n",
       "      <td>20</td>\n",
       "      <td>1</td>\n",
       "      <td>2</td>\n",
       "      <td>2014</td>\n",
       "      <td>4</td>\n",
       "      <td>1</td>\n",
       "    </tr>\n",
       "    <tr>\n",
       "      <th>2</th>\n",
       "      <td>5</td>\n",
       "      <td>7</td>\n",
       "      <td>1.0006</td>\n",
       "      <td>0.0040</td>\n",
       "      <td>4</td>\n",
       "      <td>1.2433</td>\n",
       "      <td>0</td>\n",
       "      <td>7</td>\n",
       "      <td>12</td>\n",
       "      <td>7</td>\n",
       "      <td>...</td>\n",
       "      <td>21</td>\n",
       "      <td>-1</td>\n",
       "      <td>11</td>\n",
       "      <td>-1</td>\n",
       "      <td>8</td>\n",
       "      <td>1</td>\n",
       "      <td>2</td>\n",
       "      <td>2014</td>\n",
       "      <td>8</td>\n",
       "      <td>0</td>\n",
       "    </tr>\n",
       "    <tr>\n",
       "      <th>3</th>\n",
       "      <td>6</td>\n",
       "      <td>10</td>\n",
       "      <td>0.9769</td>\n",
       "      <td>0.0004</td>\n",
       "      <td>1</td>\n",
       "      <td>1.2665</td>\n",
       "      <td>0</td>\n",
       "      <td>3</td>\n",
       "      <td>2</td>\n",
       "      <td>3</td>\n",
       "      <td>...</td>\n",
       "      <td>10</td>\n",
       "      <td>-1</td>\n",
       "      <td>9</td>\n",
       "      <td>-1</td>\n",
       "      <td>21</td>\n",
       "      <td>1</td>\n",
       "      <td>3</td>\n",
       "      <td>2013</td>\n",
       "      <td>4</td>\n",
       "      <td>0</td>\n",
       "    </tr>\n",
       "    <tr>\n",
       "      <th>4</th>\n",
       "      <td>4</td>\n",
       "      <td>23</td>\n",
       "      <td>0.9472</td>\n",
       "      <td>0.0006</td>\n",
       "      <td>3</td>\n",
       "      <td>1.3045</td>\n",
       "      <td>0</td>\n",
       "      <td>8</td>\n",
       "      <td>13</td>\n",
       "      <td>8</td>\n",
       "      <td>...</td>\n",
       "      <td>10</td>\n",
       "      <td>-1</td>\n",
       "      <td>11</td>\n",
       "      <td>-1</td>\n",
       "      <td>12</td>\n",
       "      <td>1</td>\n",
       "      <td>1</td>\n",
       "      <td>2014</td>\n",
       "      <td>1</td>\n",
       "      <td>5</td>\n",
       "    </tr>\n",
       "  </tbody>\n",
       "</table>\n",
       "<p>5 rows × 299 columns</p>\n",
       "</div>"
      ],
      "text/plain": [
       "   Field6  Field7  Field8  Field9  Field10  Field11  Field12  CoverageField1A  \\\n",
       "0       1      23  0.9403  0.0006        7   1.0200        0               17   \n",
       "1       5       7  1.0006  0.0040        4   1.2433        0                6   \n",
       "2       5       7  1.0006  0.0040        4   1.2433        0                7   \n",
       "3       6      10  0.9769  0.0004        1   1.2665        0                3   \n",
       "4       4      23  0.9472  0.0006        3   1.3045        0                8   \n",
       "\n",
       "   CoverageField1B  CoverageField2A   ...     GeographicField60B  \\\n",
       "0               23               17   ...                      8   \n",
       "1                8                6   ...                     11   \n",
       "2               12                7   ...                     21   \n",
       "3                2                3   ...                     10   \n",
       "4               13                8   ...                     10   \n",
       "\n",
       "   GeographicField61A  GeographicField61B  GeographicField62A  \\\n",
       "0                  -1                  18                  -1   \n",
       "1                  -1                  17                  -1   \n",
       "2                  -1                  11                  -1   \n",
       "3                  -1                   9                  -1   \n",
       "4                  -1                  11                  -1   \n",
       "\n",
       "   GeographicField62B  GeographicField63  GeographicField64  Year  Month  \\\n",
       "0                  10                  1                  0  2013      8   \n",
       "1                  20                  1                  2  2014      4   \n",
       "2                   8                  1                  2  2014      8   \n",
       "3                  21                  1                  3  2013      4   \n",
       "4                  12                  1                  1  2014      1   \n",
       "\n",
       "   Weekday  \n",
       "0        4  \n",
       "1        1  \n",
       "2        0  \n",
       "3        0  \n",
       "4        5  \n",
       "\n",
       "[5 rows x 299 columns]"
      ]
     },
     "execution_count": 4,
     "metadata": {},
     "output_type": "execute_result"
    }
   ],
   "source": [
    "train_dat.head()"
   ]
  },
  {
   "cell_type": "markdown",
   "metadata": {},
   "source": [
    "## Add columns with the number of -1s and zeros"
   ]
  },
  {
   "cell_type": "code",
   "execution_count": 5,
   "metadata": {
    "collapsed": false
   },
   "outputs": [],
   "source": [
    "train_dat['NumZero'] = np.sum(train_dat==0, axis=1)\n",
    "train_dat['NumMinusOne'] = np.sum(train_dat==-1, axis=1)\n",
    "\n",
    "test_dat['NumZero'] = np.sum(test_dat==0, axis=1)\n",
    "test_dat['NumMinusOne'] = np.sum(test_dat==-1, axis=1)\n",
    "\n",
    "train_dat.to_csv('features/zeros_ones_train.csv', index=False)\n",
    "test_dat.to_csv('features/zeros_ones_test.csv', index=False)"
   ]
  },
  {
   "cell_type": "code",
   "execution_count": 6,
   "metadata": {
    "collapsed": false
   },
   "outputs": [],
   "source": [
    "train_dat = pd.read_csv('features/zeros_ones_train.csv')\n",
    "test_dat = pd.read_csv('features/zeros_ones_test.csv')\n",
    "\n",
    "train_labels = np.load('features/train_labels.npy')"
   ]
  },
  {
   "cell_type": "markdown",
   "metadata": {},
   "source": [
    "## Sum accross each category"
   ]
  },
  {
   "cell_type": "code",
   "execution_count": 7,
   "metadata": {
    "collapsed": false,
    "scrolled": true
   },
   "outputs": [],
   "source": [
    "general = []\n",
    "coverage = []\n",
    "sales = []\n",
    "personal = []\n",
    "prop = []\n",
    "geographic = []\n",
    "\n",
    "for feature in train_dat.columns:\n",
    "    if feature.startswith('Field'): general.append(feature)\n",
    "    elif feature.startswith('Coverage'): coverage.append(feature)\n",
    "    elif feature.startswith('Sales'): sales.append(feature)\n",
    "    elif feature.startswith('Personal'): personal.append(feature)\n",
    "    elif feature.startswith('Property'): prop.append(feature)\n",
    "    elif feature.startswith('Geographic'): geographic.append(feature)\n",
    "        \n",
    "train_dat['GeneralSum'] = train_dat[general].sum(axis=1)\n",
    "train_dat['CoverageSum'] = train_dat[coverage].sum(axis=1)\n",
    "train_dat['SalesSum'] = train_dat[sales].sum(axis=1)\n",
    "train_dat['PersonalSum'] = train_dat[personal].sum(axis=1)\n",
    "train_dat['PropertySum'] = train_dat[prop].sum(axis=1)\n",
    "train_dat['GeographicSum'] = train_dat[geographic].sum(axis=1)\n",
    "\n",
    "        \n",
    "test_dat['GeneralSum'] = test_dat[general].sum(axis=1)\n",
    "test_dat['CoverageSum'] = test_dat[coverage].sum(axis=1)\n",
    "test_dat['SalesSum'] = test_dat[sales].sum(axis=1)\n",
    "test_dat['PersonalSum'] = test_dat[personal].sum(axis=1)\n",
    "test_dat['PropertySum'] = test_dat[prop].sum(axis=1)\n",
    "test_dat['GeographicSum'] = test_dat[geographic].sum(axis=1)\n",
    "\n",
    "\n",
    "train_dat.to_csv('features/cat_sums_train.csv', index=False)\n",
    "test_dat.to_csv('features/cat_sums_test.csv', index=False)"
   ]
  },
  {
   "cell_type": "code",
   "execution_count": 8,
   "metadata": {
    "collapsed": false
   },
   "outputs": [],
   "source": [
    "train_dat = pd.read_csv('features/cat_sums_train.csv')\n",
    "test_dat = pd.read_csv('features/cat_sums_test.csv')\n",
    "\n",
    "train_labels = np.load('features/train_labels.npy')"
   ]
  },
  {
   "cell_type": "markdown",
   "metadata": {},
   "source": [
    "## Trim unimportant features"
   ]
  },
  {
   "cell_type": "code",
   "execution_count": null,
   "metadata": {
    "collapsed": false
   },
   "outputs": [],
   "source": [
    "bst = xgb.Booster()\n",
    "bst.load_model('cat_sums_base.model')"
   ]
  },
  {
   "cell_type": "code",
   "execution_count": null,
   "metadata": {
    "collapsed": false,
    "scrolled": true
   },
   "outputs": [],
   "source": [
    "cols = sorted(bst.get_fscore().items(), key=lambda x: x[1],reverse=True)\n",
    "# Transforms feature names (f0, f1, ..., f276) to column names (SalesField8, ...)\n",
    "scores = [ j for i,j in cols ]\n",
    "cols = [ train_dat.columns[int(i.replace('f',''))] for i,j in cols ]\n",
    "plt.figure(figsize=(15,45))\n",
    "sns.barplot(scores, cols, orient='h')\n",
    "plt.xticks(rotation=90)\n",
    "plt.show()"
   ]
  },
  {
   "cell_type": "code",
   "execution_count": null,
   "metadata": {
    "collapsed": false,
    "scrolled": true
   },
   "outputs": [],
   "source": [
    "trimmed_cols = cols[0:-20]\n",
    "train_dat[trimmed_cols].to_csv('features/trimmed_train.csv', index=False)\n",
    "test_dat[trimmed_cols].to_csv('features/trimmed_test.csv', index=False)"
   ]
  },
  {
   "cell_type": "code",
   "execution_count": null,
   "metadata": {
    "collapsed": false
   },
   "outputs": [],
   "source": [
    "len(test_dat)"
   ]
  },
  {
   "cell_type": "code",
   "execution_count": null,
   "metadata": {
    "collapsed": false
   },
   "outputs": [],
   "source": [
    "samp = int(len(train_dat)*0.95)\n",
    "print(len(train_dat),'total samples')\n",
    "print(samp,'used for training')\n",
    "xg_train = xgb.DMatrix( train_eng.iloc[:samp].as_matrix(), label=train_labels[:samp])\n",
    "xg_test = xgb.DMatrix( train_eng.iloc[samp:].as_matrix(), label=train_labels[samp:])"
   ]
  },
  {
   "cell_type": "code",
   "execution_count": null,
   "metadata": {
    "collapsed": false,
    "scrolled": true
   },
   "outputs": [],
   "source": [
    "param = {   'objective': 'binary:logistic',\n",
    "            'eval_metric': 'auc',\n",
    "            'nthread':4,\n",
    "            'max_depth':6,\n",
    "            'colsample_bytree':0.75,\n",
    "            'subsample':0.83,\n",
    "            'min_child_weight':5,\n",
    "            'eta':0.025,\n",
    "        }\n",
    "watchlist = [ (xg_train,'train'), (xg_test, 'test') ]\n",
    "num_round = 10000\n",
    "bst = xgb.train(param, xg_train, num_round, watchlist, early_stopping_rounds=100)\n",
    "bst.save_model('pure_{}rounds.model'.format(num_round))"
   ]
  },
  {
   "cell_type": "code",
   "execution_count": null,
   "metadata": {
    "collapsed": true
   },
   "outputs": [],
   "source": [
    "xg_pred = xgb.DMatrix( test_dat.as_matrix())\n",
    "\n",
    "pred = bst.predict(xg_pred)\n",
    "sample = pd.read_csv('sample_submission.csv')\n",
    "sample.QuoteConversion_Flag = pred\n",
    "sample.to_csv('xgb_new_01.csv', index=False)"
   ]
  }
 ],
 "metadata": {
  "kernelspec": {
   "display_name": "Python 3",
   "language": "python",
   "name": "python3"
  },
  "language_info": {
   "codemirror_mode": {
    "name": "ipython",
    "version": 3
   },
   "file_extension": ".py",
   "mimetype": "text/x-python",
   "name": "python",
   "nbconvert_exporter": "python",
   "pygments_lexer": "ipython3",
   "version": "3.5.0"
  }
 },
 "nbformat": 4,
 "nbformat_minor": 0
}
