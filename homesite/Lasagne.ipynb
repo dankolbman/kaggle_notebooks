{
 "cells": [
  {
   "cell_type": "code",
   "execution_count": 2,
   "metadata": {
    "collapsed": false
   },
   "outputs": [],
   "source": [
    "import os, json\n",
    "import numpy as np\n",
    "import pandas as pd\n",
    "from sklearn import metrics, preprocessing, cross_validation\n",
    "from sklearn.linear_model import LogisticRegression\n",
    "import matplotlib.pyplot as plt\n",
    "import seaborn as sns\n",
    "\n",
    "from nolearn.lasagne import NeuralNet\n",
    "import lasagne\n",
    "import theano\n",
    "import theano.tensor as T\n",
    "\n",
    "import xgboost as xgb\n",
    "\n",
    "%matplotlib inline"
   ]
  },
  {
   "cell_type": "code",
   "execution_count": null,
   "metadata": {
    "collapsed": false
   },
   "outputs": [],
   "source": [
    "theano.config.openmp"
   ]
  },
  {
   "cell_type": "code",
   "execution_count": 3,
   "metadata": {
    "collapsed": true
   },
   "outputs": [],
   "source": [
    "train_dat = pd.read_csv('train_parsed.csv')\n",
    "test_dat = pd.read_csv('test_parsed.csv')\n",
    "train_labels = np.load('train_labels_parsed.npy')"
   ]
  },
  {
   "cell_type": "code",
   "execution_count": 3,
   "metadata": {
    "collapsed": true
   },
   "outputs": [],
   "source": [
    "train_dat = pd.read_csv('features/zeros_ones_train.csv')\n",
    "test_dat = pd.read_csv('features/zeros_ones_test.csv')\n",
    "train_labels = np.load('features/train_labels.npy')"
   ]
  },
  {
   "cell_type": "code",
   "execution_count": 9,
   "metadata": {
    "collapsed": true
   },
   "outputs": [],
   "source": [
    "train_dat = pd.read_csv('features/cat_sums_train.csv')\n",
    "test_dat = pd.read_csv('features/cat_sums_test.csv')\n",
    "\n",
    "train_labels = np.load('features/train_labels.npy')"
   ]
  },
  {
   "cell_type": "code",
   "execution_count": 10,
   "metadata": {
    "collapsed": false
   },
   "outputs": [],
   "source": [
    "n_features = len(train_dat.columns)\n",
    "n_classes = 2\n",
    "\n",
    "X = train_dat.as_matrix().astype(np.float32)\n",
    "scalar = preprocessing.StandardScaler()\n",
    "X = scalar.fit_transform(X)\n",
    "\n",
    "Y = train_labels.astype(np.int32)\n",
    "\n",
    "X_test = test_dat.as_matrix().astype(np.float32)\n",
    "\n",
    "dev_cutoff = int( len( train_dat )*0.90 )"
   ]
  },
  {
   "cell_type": "code",
   "execution_count": 11,
   "metadata": {
    "collapsed": true
   },
   "outputs": [],
   "source": [
    "def new_nn02():\n",
    "    layers = [\n",
    "            ('input', lasagne.layers.InputLayer),\n",
    "            ('dense0', lasagne.layers.DenseLayer),\n",
    "            ('dropout0', lasagne.layers.DropoutLayer),\n",
    "            ('dense1', lasagne.layers.DenseLayer),\n",
    "            #('dropout1', lasagne.layers.DropoutLayer),\n",
    "            ('dense2', lasagne.layers.DenseLayer),\n",
    "            ('dense3', lasagne.layers.DenseLayer),\n",
    "            ('output', lasagne.layers.DenseLayer)\n",
    "        ]\n",
    "    \n",
    "    network = NeuralNet(layers=layers,\n",
    "                     input_shape=(None, n_features),\n",
    "                     dense0_num_units=128,\n",
    "                     dropout0_p=0.2,\n",
    "                     dense1_num_units=64,\n",
    "                     #dropout1_p=0.1,\n",
    "                     dense2_num_units=32,\n",
    "                     dense3_num_units=16,\n",
    "                     output_num_units=n_classes,\n",
    "                     output_nonlinearity=lasagne.nonlinearities.softmax,\n",
    "                     update=lasagne.updates.adagrad,\n",
    "                     update_learning_rate=0.04,\n",
    "                     eval_size=0.0,\n",
    "                     # objective_loss_function = binary_accuracy,\n",
    "                     verbose=1,\n",
    "                     max_epochs=1)\n",
    "    return network\n",
    "\n",
    "def new_nn04():\n",
    "    layers = [\n",
    "            ('input', lasagne.layers.InputLayer),\n",
    "            ('dense0', lasagne.layers.DenseLayer),\n",
    "            ('dropout0', lasagne.layers.DropoutLayer),\n",
    "            ('dense1', lasagne.layers.DenseLayer),\n",
    "            ('dropout1', lasagne.layers.DropoutLayer),\n",
    "            ('dense2', lasagne.layers.DenseLayer),\n",
    "            ('dense3', lasagne.layers.DenseLayer),\n",
    "            ('output', lasagne.layers.DenseLayer)\n",
    "        ]\n",
    "    \n",
    "    network = NeuralNet(layers=layers,\n",
    "                     input_shape=(None, n_features),\n",
    "                     dense0_num_units=512,\n",
    "                     dropout0_p=0.4,\n",
    "                     dense1_num_units=128,\n",
    "                     dropout1_p=0.1,\n",
    "                     dense2_num_units=64,\n",
    "                     dense3_num_units=16,\n",
    "                     output_num_units=n_classes,\n",
    "                     output_nonlinearity=lasagne.nonlinearities.softmax,\n",
    "                     update=lasagne.updates.adagrad,\n",
    "                     update_learning_rate=0.02,\n",
    "                     #train_split=0.0,\n",
    "                     # objective_loss_function = binary_accuracy,\n",
    "                     verbose=1,\n",
    "                     max_epochs=1)\n",
    "    return network\n",
    "\n",
    "def new_nn05():\n",
    "    layers = [\n",
    "            ('input', lasagne.layers.InputLayer),\n",
    "            ('dense0', lasagne.layers.DenseLayer),\n",
    "            ('dropout0', lasagne.layers.DropoutLayer),\n",
    "            ('dense1', lasagne.layers.DenseLayer),\n",
    "            #('dropout1', lasagne.layers.DropoutLayer),\n",
    "            #('dense2', lasagne.layers.DenseLayer),\n",
    "            #('dense3', lasagne.layers.DenseLayer),\n",
    "            ('output', lasagne.layers.DenseLayer)\n",
    "        ]\n",
    "    \n",
    "    network = NeuralNet(layers=layers,\n",
    "                     input_shape=(None, n_features),\n",
    "                     dense0_num_units=256,\n",
    "                     dropout0_p=0.3,\n",
    "                     dense1_num_units=128,\n",
    "                     #dropout1_p=0.1,\n",
    "                     #dense2_num_units=64,\n",
    "                     #dense3_num_units=16,\n",
    "                     output_num_units=n_classes,\n",
    "                     output_nonlinearity=lasagne.nonlinearities.softmax,\n",
    "                     update=lasagne.updates.adagrad,\n",
    "                     update_learning_rate=0.02,\n",
    "                     #train_split=0.0,\n",
    "                     # objective_loss_function = binary_accuracy,\n",
    "                     verbose=1,\n",
    "                     max_epochs=1)\n",
    "    return network"
   ]
  },
  {
   "cell_type": "code",
   "execution_count": 12,
   "metadata": {
    "collapsed": false,
    "scrolled": true
   },
   "outputs": [
    {
     "name": "stdout",
     "output_type": "stream",
     "text": [
      "Fold 1 of 3\n",
      "# Neural Network with 112002 learnable parameters\n",
      "\n",
      "## Layer information\n",
      "\n",
      "  #  name        size\n",
      "---  --------  ------\n",
      "  0  input        307\n",
      "  1  dense0       256\n",
      "  2  dropout0     256\n",
      "  3  dense1       128\n",
      "  4  output         2\n",
      "\n",
      "  epoch    train loss    valid loss    train/val    valid acc  dur\n",
      "-------  ------------  ------------  -----------  -----------  ------\n",
      "      1       \u001b[36m0.26018\u001b[0m       \u001b[32m0.19689\u001b[0m      1.32149      0.91450  10.62s\n",
      "      2       \u001b[36m0.19243\u001b[0m       \u001b[32m0.19001\u001b[0m      1.01273      0.91626  10.52s\n",
      "      3       \u001b[36m0.18317\u001b[0m       \u001b[32m0.18755\u001b[0m      0.97665      0.91756  10.75s\n",
      "      4       \u001b[36m0.17887\u001b[0m       \u001b[32m0.18689\u001b[0m      0.95705      0.91807  10.53s\n",
      "      5       \u001b[36m0.17527\u001b[0m       \u001b[32m0.18632\u001b[0m      0.94067      0.91820  10.53s\n",
      "      6       \u001b[36m0.17291\u001b[0m       \u001b[32m0.18560\u001b[0m      0.93158      0.91885  10.57s\n",
      "      7       \u001b[36m0.17014\u001b[0m       \u001b[32m0.18553\u001b[0m      0.91702      0.91871  10.51s\n",
      "      8       \u001b[36m0.16733\u001b[0m       \u001b[32m0.18533\u001b[0m      0.90292      0.91894  10.68s\n",
      "      9       \u001b[36m0.16543\u001b[0m       0.18603      0.88925      0.91887  10.57s\n",
      "     10       \u001b[36m0.16294\u001b[0m       0.18706      0.87108      0.91945  10.49s\n",
      "Fold 2 of 3\n",
      "# Neural Network with 112002 learnable parameters\n",
      "\n",
      "## Layer information\n",
      "\n",
      "  #  name        size\n",
      "---  --------  ------\n",
      "  0  input        307\n",
      "  1  dense0       256\n",
      "  2  dropout0     256\n",
      "  3  dense1       128\n",
      "  4  output         2\n",
      "\n",
      "  epoch    train loss    valid loss    train/val    valid acc  dur\n",
      "-------  ------------  ------------  -----------  -----------  ------\n",
      "      1       \u001b[36m0.23294\u001b[0m       \u001b[32m0.19309\u001b[0m      1.20639      0.91660  10.56s\n",
      "      2       \u001b[36m0.19071\u001b[0m       \u001b[32m0.18738\u001b[0m      1.01779      0.91925  10.58s\n",
      "      3       \u001b[36m0.18326\u001b[0m       \u001b[32m0.18481\u001b[0m      0.99162      0.91938  10.55s\n",
      "      4       \u001b[36m0.17935\u001b[0m       \u001b[32m0.18283\u001b[0m      0.98097      0.92059  10.57s\n",
      "      5       \u001b[36m0.17581\u001b[0m       \u001b[32m0.18225\u001b[0m      0.96467      0.92059  10.58s\n",
      "      6       \u001b[36m0.17234\u001b[0m       \u001b[32m0.18125\u001b[0m      0.95086      0.92056  10.86s\n",
      "      7       \u001b[36m0.16952\u001b[0m       \u001b[32m0.18090\u001b[0m      0.93709      0.92180  10.65s\n",
      "      8       \u001b[36m0.16756\u001b[0m       0.18137      0.92387      0.92129  11.41s\n",
      "      9       \u001b[36m0.16438\u001b[0m       0.18139      0.90618      0.92011  10.90s\n",
      "     10       \u001b[36m0.16302\u001b[0m       0.18149      0.89821      0.92056  10.90s\n",
      "Fold 3 of 3\n",
      "# Neural Network with 112002 learnable parameters\n",
      "\n",
      "## Layer information\n",
      "\n",
      "  #  name        size\n",
      "---  --------  ------\n",
      "  0  input        307\n",
      "  1  dense0       256\n",
      "  2  dropout0     256\n",
      "  3  dense1       128\n",
      "  4  output         2\n",
      "\n",
      "  epoch    train loss    valid loss    train/val    valid acc  dur\n",
      "-------  ------------  ------------  -----------  -----------  ------\n",
      "      1       \u001b[36m0.23401\u001b[0m       \u001b[32m0.20426\u001b[0m      1.14563      0.91297  10.78s\n",
      "      2       \u001b[36m0.19114\u001b[0m       \u001b[32m0.19374\u001b[0m      0.98659      0.91746  10.67s\n",
      "      3       \u001b[36m0.18347\u001b[0m       \u001b[32m0.19033\u001b[0m      0.96396      0.91842  11.02s\n",
      "      4       \u001b[36m0.17920\u001b[0m       \u001b[32m0.18745\u001b[0m      0.95597      0.91852  11.02s\n",
      "      5       \u001b[36m0.17587\u001b[0m       \u001b[32m0.18638\u001b[0m      0.94360      0.91922  10.69s\n",
      "      6       \u001b[36m0.17340\u001b[0m       0.18661      0.92924      0.91916  10.71s\n",
      "      7       \u001b[36m0.17054\u001b[0m       \u001b[32m0.18559\u001b[0m      0.91894      0.91950  10.79s\n",
      "      8       \u001b[36m0.16878\u001b[0m       \u001b[32m0.18531\u001b[0m      0.91081      0.91960  10.82s\n",
      "      9       \u001b[36m0.16676\u001b[0m       \u001b[32m0.18482\u001b[0m      0.90228      0.91989  10.83s\n",
      "     10       \u001b[36m0.16444\u001b[0m       0.18524      0.88770      0.91969  10.65s\n"
     ]
    }
   ],
   "source": [
    "-"
   ]
  },
  {
   "cell_type": "code",
   "execution_count": 13,
   "metadata": {
    "collapsed": false
   },
   "outputs": [
    {
     "data": {
      "image/png": "[encoded data removed]",
      "text/plain": [
       "<matplotlib.figure.Figure at 0x7fc813bebe48>"
      ]
     },
     "metadata": {},
     "output_type": "display_data"
    }
   ],
   "source": [
    "plt.figure(figsize=(10,4))\n",
    "plt.subplot(1,2,1)\n",
    "plt.title('auc against fold test set')\n",
    "plt.plot(auc_cv_scores.T)\n",
    "plt.subplot(1,2,2)\n",
    "plt.title('auc against validation hold out')\n",
    "plt.plot(auc_val_scores.T)\n",
    "plt.show()"
   ]
  },
  {
   "cell_type": "code",
   "execution_count": 26,
   "metadata": {
    "collapsed": false
   },
   "outputs": [
    {
     "name": "stdout",
     "output_type": "stream",
     "text": [
      "[ 0.96227365  0.96106107  0.96204124]\n"
     ]
    },
    {
     "data": {
      "text/plain": [
       "0.96306718149733206"
      ]
     },
     "execution_count": 26,
     "metadata": {},
     "output_type": "execute_result"
    }
   ],
   "source": [
    "print(fold_scores)\n",
    "pred = np.round(X_val_pred[:,2])\n",
    "metrics.roc_auc_score(Y[dev_cutoff:],X_val_pred.mean(1))"
   ]
  },
  {
   "cell_type": "markdown",
   "metadata": {
    "collapsed": false
   },
   "source": [
    "### Load networks from files"
   ]
  },
  {
   "cell_type": "code",
   "execution_count": 27,
   "metadata": {
    "collapsed": false,
    "scrolled": true
   },
   "outputs": [
    {
     "name": "stdout",
     "output_type": "stream",
     "text": [
      "Loaded parameters to layer 'dense0' (shape 299x256).\n",
      "Loaded parameters to layer 'dense0' (shape 256).\n",
      "Loaded parameters to layer 'dense1' (shape 256x128).\n",
      "Loaded parameters to layer 'dense1' (shape 128).\n",
      "Loaded parameters to layer 'output' (shape 128x2).\n",
      "Loaded parameters to layer 'output' (shape 2).\n",
      "Loaded parameters to layer 'dense0' (shape 299x256).\n",
      "Loaded parameters to layer 'dense0' (shape 256).\n",
      "Loaded parameters to layer 'dense1' (shape 256x128).\n",
      "Loaded parameters to layer 'dense1' (shape 128).\n",
      "Loaded parameters to layer 'output' (shape 128x2).\n",
      "Loaded parameters to layer 'output' (shape 2).\n",
      "Loaded parameters to layer 'dense0' (shape 299x256).\n",
      "Loaded parameters to layer 'dense0' (shape 256).\n",
      "Loaded parameters to layer 'dense1' (shape 256x128).\n",
      "Loaded parameters to layer 'dense1' (shape 128).\n",
      "Loaded parameters to layer 'output' (shape 128x2).\n",
      "Loaded parameters to layer 'output' (shape 2).\n"
     ]
    }
   ],
   "source": [
    "networks = []\n",
    "\n",
    "for root, dirs, files in os.walk('nn_model/'):\n",
    "    for file in files:\n",
    "        if file.endswith(\".param\") and file.startswith('nn05'):#not file.startswith('fengineer'):\n",
    "            network = new_nn05()\n",
    "            network.load_params_from(os.path.join(root, file))\n",
    "            networks.append(network)"
   ]
  },
  {
   "cell_type": "markdown",
   "metadata": {},
   "source": [
    "### Predict each model"
   ]
  },
  {
   "cell_type": "code",
   "execution_count": 28,
   "metadata": {
    "collapsed": false
   },
   "outputs": [
    {
     "name": "stdout",
     "output_type": "stream",
     "text": [
      "Model 0: 0.818475816522\n",
      "Model 1: 0.823650188671\n",
      "Model 2: 0.822475773245\n",
      "Mean of models 0.843092620371\n"
     ]
    }
   ],
   "source": [
    "train_preds = np.zeros( (len(X), len(networks)) )\n",
    "test_preds = np.zeros( (len(X_test), len(networks)) )\n",
    "for i, network in enumerate(networks):\n",
    "    train_preds[:,i] = network.predict(X)\n",
    "    test_preds[:,i] = network.predict(X_test)\n",
    "    print('Model {}:'.format(i),metrics.roc_auc_score(Y, train_preds[:,i]))\n",
    "train_pred_mean = train_preds.mean(1)\n",
    "test_pred_mean = test_preds.mean(1)\n",
    "print('Mean of models', metrics.roc_auc_score(Y, train_pred_mean))"
   ]
  },
  {
   "cell_type": "code",
   "execution_count": 29,
   "metadata": {
    "collapsed": false,
    "scrolled": true
   },
   "outputs": [
    {
     "name": "stderr",
     "output_type": "stream",
     "text": [
      "Will train until test error hasn't decreased in 50 rounds.\n",
      "[0]\ttrain-auc:0.843755\ttest-auc:0.837163\n",
      "[1]\ttrain-auc:0.843755\ttest-auc:0.837163\n",
      "[2]\ttrain-auc:0.843755\ttest-auc:0.837163\n",
      "[3]\ttrain-auc:0.843755\ttest-auc:0.837163\n",
      "[4]\ttrain-auc:0.843755\ttest-auc:0.837163\n",
      "[5]\ttrain-auc:0.843755\ttest-auc:0.837163\n",
      "[6]\ttrain-auc:0.843755\ttest-auc:0.837163\n",
      "[7]\ttrain-auc:0.843755\ttest-auc:0.837163\n",
      "[8]\ttrain-auc:0.843755\ttest-auc:0.837163\n",
      "[9]\ttrain-auc:0.843755\ttest-auc:0.837163\n",
      "[10]\ttrain-auc:0.843755\ttest-auc:0.837163\n",
      "[11]\ttrain-auc:0.843755\ttest-auc:0.837163\n",
      "[12]\ttrain-auc:0.843755\ttest-auc:0.837163\n",
      "[13]\ttrain-auc:0.843755\ttest-auc:0.837163\n",
      "[14]\ttrain-auc:0.843755\ttest-auc:0.837163\n",
      "[15]\ttrain-auc:0.843755\ttest-auc:0.837163\n",
      "[16]\ttrain-auc:0.843755\ttest-auc:0.837163\n",
      "[17]\ttrain-auc:0.843755\ttest-auc:0.837163\n",
      "[18]\ttrain-auc:0.843755\ttest-auc:0.837163\n",
      "[19]\ttrain-auc:0.843755\ttest-auc:0.837163\n",
      "[20]\ttrain-auc:0.843755\ttest-auc:0.837163\n",
      "[21]\ttrain-auc:0.843755\ttest-auc:0.837163\n",
      "[22]\ttrain-auc:0.843755\ttest-auc:0.837163\n",
      "[23]\ttrain-auc:0.843755\ttest-auc:0.837163\n",
      "[24]\ttrain-auc:0.843755\ttest-auc:0.837163\n",
      "[25]\ttrain-auc:0.843755\ttest-auc:0.837163\n",
      "[26]\ttrain-auc:0.843755\ttest-auc:0.837163\n",
      "[27]\ttrain-auc:0.843755\ttest-auc:0.837163\n",
      "[28]\ttrain-auc:0.843755\ttest-auc:0.837163\n",
      "[29]\ttrain-auc:0.843755\ttest-auc:0.837163\n",
      "[30]\ttrain-auc:0.843755\ttest-auc:0.837163\n",
      "[31]\ttrain-auc:0.843755\ttest-auc:0.837163\n",
      "[32]\ttrain-auc:0.843755\ttest-auc:0.837163\n",
      "[33]\ttrain-auc:0.843755\ttest-auc:0.837163\n",
      "[34]\ttrain-auc:0.843755\ttest-auc:0.837163\n",
      "[35]\ttrain-auc:0.843755\ttest-auc:0.837163\n",
      "[36]\ttrain-auc:0.843755\ttest-auc:0.837163\n",
      "[37]\ttrain-auc:0.843755\ttest-auc:0.837163\n",
      "[38]\ttrain-auc:0.843755\ttest-auc:0.837163\n",
      "[39]\ttrain-auc:0.843755\ttest-auc:0.837163\n",
      "[40]\ttrain-auc:0.843755\ttest-auc:0.837163\n",
      "[41]\ttrain-auc:0.843755\ttest-auc:0.837163\n",
      "[42]\ttrain-auc:0.843755\ttest-auc:0.837163\n",
      "[43]\ttrain-auc:0.843755\ttest-auc:0.837163\n",
      "[44]\ttrain-auc:0.843755\ttest-auc:0.837163\n",
      "[45]\ttrain-auc:0.843755\ttest-auc:0.837163\n",
      "[46]\ttrain-auc:0.843755\ttest-auc:0.837163\n",
      "[47]\ttrain-auc:0.843755\ttest-auc:0.837163\n",
      "[48]\ttrain-auc:0.843755\ttest-auc:0.837163\n",
      "[49]\ttrain-auc:0.843755\ttest-auc:0.837163\n",
      "[50]\ttrain-auc:0.843755\ttest-auc:0.837163\n",
      "Stopping. Best iteration:\n",
      "[0]\ttrain-auc:0.843755\ttest-auc:0.837163\n",
      "\n"
     ]
    }
   ],
   "source": [
    "xg_train = xgb.DMatrix(train_preds[:dev_cutoff], label=Y[:dev_cutoff])\n",
    "xg_valid = xgb.DMatrix(train_preds[dev_cutoff:], label=Y[dev_cutoff:])\n",
    "xg_test = xgb.DMatrix(test_preds)\n",
    "\n",
    "num_round=400\n",
    "param = {   'objective': 'binary:logistic',\n",
    "            'eval_metric': 'auc',\n",
    "            'nthread':4,\n",
    "            'max_depth':6,\n",
    "            'colsample_bytree':1.0,\n",
    "            'subsample':1.0,\n",
    "            'min_child_weight':2, #3,\n",
    "            'eta':0.3 #0.023,\n",
    "        }\n",
    "\n",
    "watchlist = [(xg_train,'train'), (xg_valid,'test')]\n",
    "bst = xgb.train(param, xg_train, num_round, watchlist,\n",
    "                early_stopping_rounds=50)"
   ]
  },
  {
   "cell_type": "code",
   "execution_count": 90,
   "metadata": {
    "collapsed": false
   },
   "outputs": [],
   "source": [
    "#pred = bst.predict(xg_test)\n",
    "pred = test_pred_mean\n",
    "sample = pd.read_csv('sample_submission.csv')\n",
    "sample.QuoteConversion_Flag = pred\n",
    "sample.to_csv('nn_submission_02.csv', index=False)"
   ]
  },
  {
   "cell_type": "code",
   "execution_count": 91,
   "metadata": {
    "collapsed": false
   },
   "outputs": [
    {
     "data": {
      "text/plain": [
       "array([ 0.,  0.,  0., ...,  0.,  0.,  0.])"
      ]
     },
     "execution_count": 91,
     "metadata": {},
     "output_type": "execute_result"
    }
   ],
   "source": [
    "pred"
   ]
  },
  {
   "cell_type": "code",
   "execution_count": null,
   "metadata": {
    "collapsed": true
   },
   "outputs": [],
   "source": []
  }
 ],
 "metadata": {
  "kernelspec": {
   "display_name": "Python 3",
   "language": "python",
   "name": "python3"
  },
  "language_info": {
   "codemirror_mode": {
    "name": "ipython",
    "version": 3
   },
   "file_extension": ".py",
   "mimetype": "text/x-python",
   "name": "python",
   "nbconvert_exporter": "python",
   "pygments_lexer": "ipython3",
   "version": "3.5.0"
  }
 },
 "nbformat": 4,
 "nbformat_minor": 0
}
