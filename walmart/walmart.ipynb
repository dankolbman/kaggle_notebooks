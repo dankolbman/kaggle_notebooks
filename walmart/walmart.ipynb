{
 "cells": [
  {
   "cell_type": "code",
   "execution_count": 1,
   "metadata": {
    "collapsed": false
   },
   "outputs": [
    {
     "name": "stderr",
     "output_type": "stream",
     "text": [
      "/usr/lib/python3.5/site-packages/matplotlib/__init__.py:872: UserWarning: axes.color_cycle is deprecated and replaced with axes.prop_cycle; please use the latter.\n",
      "  warnings.warn(self.msg_depr % (key, alt_key))\n"
     ]
    }
   ],
   "source": [
    "import time\n",
    "import numpy as np\n",
    "import pandas as pd\n",
    "import matplotlib.pyplot as plt\n",
    "import seaborn as sns\n",
    "from sklearn import svm\n",
    "from sklearn import preprocessing\n",
    "from sklearn.ensemble import RandomForestClassifier\n",
    "import xgboost as xgb\n",
    "\n",
    "%matplotlib inline"
   ]
  },
  {
   "cell_type": "code",
   "execution_count": null,
   "metadata": {
    "collapsed": false
   },
   "outputs": [],
   "source": [
    "data = pd.read_csv('train.csv')\n",
    "l = len(data)\n",
    "data = data.dropna()\n",
    "print(l-len(data),'null values dropped from data')\n",
    "\n",
    "# Need to encode string values in weekday and department description fields for the classifier\n",
    "descEnc = preprocessing.LabelEncoder()\n",
    "descEnc.fit(data.DepartmentDescription.tolist())\n",
    "dayEnc = preprocessing.LabelEncoder()\n",
    "dayEnc.fit(data.Weekday.tolist())\n",
    "\n",
    "data['EncodedDescription'] = pd.Series(descEnc.transform(data.DepartmentDescription.tolist()), index=data.index)\n",
    "data['EncodedDay'] = pd.Series(dayEnc.transform(data.Weekday.tolist()), index=data.index)\n",
    "\n",
    "train_dat = data.sample(10000)\n",
    "test_dat = data.sample(1000)"
   ]
  },
  {
   "cell_type": "code",
   "execution_count": null,
   "metadata": {
    "collapsed": false
   },
   "outputs": [],
   "source": [
    "feature_columns = ['EncodedDay','EncodedDescription', 'Upc', 'ScanCount', 'FinelineNumber']\n",
    "clf = svm.LinearSVC()"
   ]
  },
  {
   "cell_type": "code",
   "execution_count": null,
   "metadata": {
    "collapsed": false
   },
   "outputs": [],
   "source": [
    "print('Train the classifier')\n",
    "clf.fit(train_dat[feature_columns], train_dat.TripType)"
   ]
  },
  {
   "cell_type": "code",
   "execution_count": null,
   "metadata": {
    "collapsed": false
   },
   "outputs": [],
   "source": [
    "clf.score(test_dat[feature_columns], test_dat.TripType)"
   ]
  },
  {
   "cell_type": "code",
   "execution_count": null,
   "metadata": {
    "collapsed": false
   },
   "outputs": [],
   "source": [
    "runs = range(10)\n",
    "scores = []\n",
    "clf = svm.LinearSVC()\n",
    "for r in runs:\n",
    "    print('\\rRun: {}  Samples: {}'.format(r,100+r*1000), end='')\n",
    "    train_dat = data.sample(100+r*1000)\n",
    "    clf.fit(train_dat[feature_columns], train_dat.TripType)\n",
    "    scores.append(clf.score(test_dat[feature_columns], test_dat.TripType))\n",
    "    \n",
    "plt.plot(runs,scores)\n",
    "plt.xlabel('Epoch')\n",
    "plt.ylabel('Score')\n",
    "plt.show()"
   ]
  },
  {
   "cell_type": "code",
   "execution_count": null,
   "metadata": {
    "collapsed": false
   },
   "outputs": [],
   "source": [
    "runs = range(4)\n",
    "scores = []\n",
    "clf = RandomForestClassifier(max_depth=3, n_estimators=1000, max_features=5, n_jobs=4)\n",
    "for r in runs:\n",
    "    print('\\rRun: {}'.format(r+1), end='')\n",
    "    time.sleep(0.01)\n",
    "    train_dat = data.sample(1000)\n",
    "    clf.fit(train_dat[feature_columns], train_dat.TripType)\n",
    "    scores.append(clf.score(test_dat[feature_columns], test_dat.TripType))\n",
    "    \n",
    "plt.plot(runs,scores)\n",
    "plt.xlabel('Epoch')\n",
    "plt.ylabel('Score')\n",
    "plt.show()"
   ]
  },
  {
   "cell_type": "code",
   "execution_count": null,
   "metadata": {
    "collapsed": false
   },
   "outputs": [],
   "source": [
    "train_dat.iloc[:,:].hist(figsize=(16,12),bins=50)\n",
    "plt.show()"
   ]
  },
  {
   "cell_type": "markdown",
   "metadata": {},
   "source": [
    "# Group by visit number"
   ]
  },
  {
   "cell_type": "code",
   "execution_count": null,
   "metadata": {
    "collapsed": false
   },
   "outputs": [],
   "source": [
    "data = pd.read_csv('train.csv')\n",
    "l = len(data)\n",
    "data = data.dropna()\n",
    "print(l-len(data),'rows dropped from data')\n",
    "\n",
    "max_items = max(data.groupby('VisitNumber').size())\n",
    "print('Largest single purchase:', max_items, 'unique items')\n",
    "\n",
    "data['DepartmentDescription'] = pd.Series(descEnc.transform(data.DepartmentDescription.tolist()), index=data.index)\n",
    "data['Weekday'] = pd.Series(dayEnc.transform(data.Weekday.tolist()), index=data.index)"
   ]
  },
  {
   "cell_type": "code",
   "execution_count": null,
   "metadata": {
    "collapsed": false
   },
   "outputs": [],
   "source": [
    "num_item_features = max_items\n",
    "# The columns to use when expanding the individual items in a purchase to new features\n",
    "cols_per_item = ['ScanCount', 'DepartmentDescription', 'FinelineNumber']\n",
    "feat_cols = [list(data[cols_per_item].columns.values+str(i)) for i in range(num_item_features)]\n",
    "feat_cols = [ i for si in feat_cols for i in si ]\n",
    "feat_cols = ['TripType', 'VisitNumber', 'Weekday'] + feat_cols\n",
    "print(len(feat_cols), 'features')\n",
    "n_feat_cols = len(feat_cols)"
   ]
  },
  {
   "cell_type": "code",
   "execution_count": null,
   "metadata": {
    "collapsed": true
   },
   "outputs": [],
   "source": [
    "grouped = data.iloc[100000:200000].groupby('VisitNumber')\n",
    "#df = pd.DataFrame(index=np.arange(0,len(grouped)), columns=feat_cols)\n",
    "count = len(df)\n",
    "for name, group in grouped:\n",
    "    triptype = group.iloc[0].TripType\n",
    "    visitnumber = group.iloc[0].VisitNumber\n",
    "    weekday = group.iloc[0].Weekday\n",
    "    row = [ triptype, visitnumber, weekday ]\n",
    "    for i in range(len(group)):\n",
    "        for c in cols_per_item:\n",
    "            row.append(group[c].iloc[i])\n",
    "    row = np.pad(row, (0, n_feat_cols-len(row)), 'constant' )\n",
    "    df.loc[count] = row\n",
    "    count += 1\n",
    "    print('\\rRow {} of {}'.format(name,10000), end='')\n",
    "    \n",
    "#df = df.set_index('VisitNumber')"
   ]
  },
  {
   "cell_type": "code",
   "execution_count": null,
   "metadata": {
    "collapsed": false
   },
   "outputs": [],
   "source": [
    "print(len(df))\n",
    "print(len(data))\n",
    "clf = RandomForestClassifier(max_depth=None, n_estimators=100, max_features=629, n_jobs=4, warm_start=True)\n",
    "train_cols = feat_cols[1:]\n",
    "\n",
    "df_train = df.iloc[0:25000]\n",
    "df_test = df.iloc[25000:]\n",
    "\n",
    "%time clf.fit(df_train[train_cols], df_train.TripType)\n",
    "score = clf.score(df_test[train_cols], df_test.TripType)\n",
    "\n",
    "repr(score)"
   ]
  },
  {
   "cell_type": "code",
   "execution_count": null,
   "metadata": {
    "collapsed": false
   },
   "outputs": [],
   "source": [
    "df.to_pickle('read_200k.pkl')\n",
    "df.to_csv('read_200k.csv')"
   ]
  },
  {
   "cell_type": "code",
   "execution_count": null,
   "metadata": {
    "collapsed": true
   },
   "outputs": [],
   "source": [
    "df = pd.read_csv('read_200k.csv')"
   ]
  },
  {
   "cell_type": "markdown",
   "metadata": {
    "collapsed": true
   },
   "source": [
    "# XGBoost"
   ]
  },
  {
   "cell_type": "code",
   "execution_count": null,
   "metadata": {
    "collapsed": false
   },
   "outputs": [],
   "source": [
    "data = pd.read_csv('train.csv')\n",
    "print(data.isnull().sum().sum(), 'null values to replace')\n",
    "data = data.fillna(0).replace('NULL',0)\n",
    "\n",
    "max_items = max(data.groupby('VisitNumber').size())\n",
    "print('Largest single purchase:', max_items, 'unique items')\n",
    "\n",
    "descEnc = preprocessing.LabelEncoder()\n",
    "descEnc.fit(data.DepartmentDescription.tolist())\n",
    "\n",
    "dayEnc = preprocessing.LabelEncoder()\n",
    "dayEnc.fit(data.Weekday.tolist())\n",
    "\n",
    "tripEnc = preprocessing.LabelEncoder()\n",
    "tripEnc.fit(data.TripType.tolist())\n",
    "\n",
    "data['DepartmentDescription'] = pd.Series(descEnc.transform(data.DepartmentDescription.tolist()), index=data.index)\n",
    "data['Weekday'] = pd.Series(dayEnc.transform(data.Weekday.tolist()), index=data.index)\n",
    "data['TripType'] = pd.Series(tripEnc.transform(data.TripType.tolist()), index=data.index)\n"
   ]
  },
  {
   "cell_type": "code",
   "execution_count": null,
   "metadata": {
    "collapsed": false
   },
   "outputs": [],
   "source": [
    "num_item_features = max_items\n",
    "# The columns to use when expanding the individual items in a purchase to new features\n",
    "cols_per_item = ['ScanCount', 'DepartmentDescription', 'FinelineNumber']\n",
    "feat_cols = [list(data[cols_per_item].columns.values+str(i)) for i in range(num_item_features)]\n",
    "feat_cols = [ i for si in feat_cols for i in si ]\n",
    "feat_cols = ['TripType', 'VisitNumber', 'Weekday'] + feat_cols + ['ItemCount', 'UniqueItemCount', 'DepartmentCount']\n",
    "n_feat_cols = len(feat_cols)\n",
    "n_visits = data.VisitNumber.nunique()\n",
    "print(n_feat_cols, 'Features per puchase')\n",
    "print(n_visits, 'Unique visits')"
   ]
  },
  {
   "cell_type": "markdown",
   "metadata": {},
   "source": [
    "### Handles reformatting each purchase into a feature vector"
   ]
  },
  {
   "cell_type": "code",
   "execution_count": null,
   "metadata": {
    "collapsed": false
   },
   "outputs": [],
   "source": [
    "grouped = data.groupby('VisitNumber')\n",
    "# Preallocate np array\n",
    "np_data = np.zeros(( n_visits, n_feat_cols ), dtype=np.int)\n",
    "\n",
    "n_visit = 0\n",
    "for name, group in grouped:\n",
    "    print('\\rOn visit {} of {}'.format(n_visit+1, n_visits), end='')\n",
    "    np_data[n_visit, 0] = group.iloc[0].TripType\n",
    "    np_data[n_visit, 1] = group.iloc[0].VisitNumber\n",
    "    np_data[n_visit, 2] = group.iloc[0].Weekday\n",
    "    \n",
    "    np_data[n_visit, -1] = group.DepartmentDescription.nunique()\n",
    "    np_data[n_visit, -2] = group.Upc.nunique()\n",
    "    np_data[n_visit, -3] = group.ScanCount.sum()\n",
    "    # for keeping track of current column\n",
    "    c = 3\n",
    "    for i in range(len(group)):\n",
    "        for ic in cols_per_item:\n",
    "            np_data[n_visit, c] = group[ic].iloc[i]\n",
    "            c += 1\n",
    "    n_visit += 1\n",
    "    "
   ]
  },
  {
   "cell_type": "code",
   "execution_count": null,
   "metadata": {
    "collapsed": true
   },
   "outputs": [],
   "source": [
    "np.save('np_data.npy', np_data)"
   ]
  },
  {
   "cell_type": "code",
   "execution_count": null,
   "metadata": {
    "collapsed": true
   },
   "outputs": [],
   "source": [
    "np_data = np.load('np_data.npy')\n",
    "np_test_data = np.load('np_test_data.npy')"
   ]
  },
  {
   "cell_type": "code",
   "execution_count": null,
   "metadata": {
    "collapsed": false
   },
   "outputs": [],
   "source": [
    "ntest = 1000 # Number of tests\n",
    "#np_train_labels = np_data[:-ntest, 0]\n",
    "#np_train = np_data[:-ntest:, 2:]\n",
    "\n",
    "#np_test_labels = np_data[ntest:, 0]\n",
    "#np_test = np_data[ntest:, 2:]\n",
    "\n",
    "np_train_labels = np_data[:,0]\n",
    "np_train = np_data[:,2:]\n",
    "\n",
    "np_test_labels = np_data[::100, 0]\n",
    "np_test = np_data[::100, 2:]\n",
    "\n",
    "dtrain = xgb.DMatrix( np_train, label=np_train_labels)\n",
    "dtest = xgb.DMatrix( np_test, label=np_test_labels)"
   ]
  },
  {
   "cell_type": "code",
   "execution_count": null,
   "metadata": {
    "collapsed": false
   },
   "outputs": [],
   "source": [
    "dtrain.save_binary('train.buffer')\n",
    "dtest.save_binary('test.buffer')"
   ]
  },
  {
   "cell_type": "code",
   "execution_count": null,
   "metadata": {
    "collapsed": false
   },
   "outputs": [],
   "source": [
    "dtrain = xgb.DMatrix('train.buffer')\n",
    "dtest = xgb.DMatrix('test.buffer')"
   ]
  },
  {
   "cell_type": "markdown",
   "metadata": {},
   "source": [
    "## Ok, now do the training already"
   ]
  },
  {
   "cell_type": "code",
   "execution_count": null,
   "metadata": {
    "collapsed": false
   },
   "outputs": [],
   "source": [
    "evallist  = [(dtest,'eval'), (dtrain,'train')]\n",
    "params = {'nthread':4,\n",
    "          'max_depth':10,\n",
    "          'objective':'multi:softmax',\n",
    "          'num_class':len(tripEnc.classes_),\n",
    "          'eta':0.05,\n",
    "          'eval_metric':'mlogloss'\n",
    "         }\n",
    "model = xgb.train( params, dtrain, 20, evallist, early_stopping_rounds=5)"
   ]
  },
  {
   "cell_type": "code",
   "execution_count": null,
   "metadata": {
    "collapsed": false,
    "scrolled": true
   },
   "outputs": [],
   "source": [
    "f = plt.figure(figsize=(10,10))\n",
    "xgb.plot_importance(model)\n",
    "plt.gcf().set_size_inches(11,11)\n",
    "plt.show()"
   ]
  },
  {
   "cell_type": "code",
   "execution_count": null,
   "metadata": {
    "collapsed": false,
    "scrolled": true
   },
   "outputs": [],
   "source": [
    "from pandas.tools.plotting import scatter_matrix\n",
    "d = data.sample(1000)\n",
    "\n",
    "scatter_matrix(d, diagonal='kde' )\n",
    "plt.gcf().set_size_inches(11,11)"
   ]
  },
  {
   "cell_type": "code",
   "execution_count": null,
   "metadata": {
    "collapsed": true
   },
   "outputs": [],
   "source": [
    "from pandas.tools.plotting import radviz\n",
    "d = pd.DataFrame(np_data[1:1000,0:1000], index=np_data[1:1000,1], columns=feat_cols)\n",
    "plt.figure(figsize=(11,11))\n",
    "radviz(d, 'TripType')\n",
    "plt.show()\n",
    "d"
   ]
  },
  {
   "cell_type": "markdown",
   "metadata": {},
   "source": [
    "# Write predictions"
   ]
  },
  {
   "cell_type": "code",
   "execution_count": null,
   "metadata": {
    "collapsed": false
   },
   "outputs": [],
   "source": [
    "trip_dec = sorted(tripEnc.inverse_transform(data.TripType.unique()))\n",
    "\n",
    "cols = [\"VisitNumber\"] + [ \"TripType_{}\".format(i) for i in trip_dec ]\n",
    "\n",
    "prediction_m = np.zeros( (np_test_data.shape[0], len(cols)), np.int )\n",
    "\n",
    "np_dtest = xgb.DMatrix( np_test_data[:,1:] )\n",
    "preds = model.predict( np_dtest )\n",
    "preds = np.round(preds).astype(np.int)\n",
    "print(min(preds))\n",
    "for i in range(np_test_data.shape[0]):\n",
    "    prediction_m[i][0] = np_test_data[i][0]\n",
    "    prediction_m[i][preds[i]+1] = 1\n",
    "\n",
    "prediction_df = pd.DataFrame( prediction_m, columns=cols)\n",
    "print(len(prediction_df))\n",
    "prediction_df.to_csv('output.csv', index=False)"
   ]
  },
  {
   "cell_type": "code",
   "execution_count": null,
   "metadata": {
    "collapsed": false
   },
   "outputs": [],
   "source": [
    "f = plt.figure(figsize=(11,7))\n",
    "plt.subplot(2,1,1)\n",
    "data.TripType.hist(bins=len(cols))\n",
    "plt.subplot(2,1,2)\n",
    "plt.hist(preds, bins=len(cols))\n",
    "plt.show()"
   ]
  },
  {
   "cell_type": "markdown",
   "metadata": {},
   "source": [
    "# Try again using pd.get_dummies"
   ]
  },
  {
   "cell_type": "markdown",
   "metadata": {},
   "source": [
    "#### Creating a basic feature vector using department descriptions and scan count only"
   ]
  },
  {
   "cell_type": "code",
   "execution_count": 4,
   "metadata": {
    "collapsed": false
   },
   "outputs": [
    {
     "name": "stdout",
     "output_type": "stream",
     "text": [
      "Using 70 features\n",
      "Using 5270 features\n",
      "126504\n"
     ]
    }
   ],
   "source": [
    "data = pd.read_csv('train.csv')\n",
    "\n",
    "tripEnc = preprocessing.LabelEncoder()\n",
    "tripEnc.fit(data.TripType.tolist())\n",
    "\n",
    "dayEnc = preprocessing.LabelEncoder()\n",
    "dayEnc.fit(data.Weekday.tolist())\n",
    "\n",
    "data['TripType'] = pd.Series(tripEnc.transform(data.TripType.tolist()), index=data.index)\n",
    "data['Weekday'] = pd.Series(dayEnc.transform(data.Weekday.tolist()), index=data.index)\n",
    "data.FinelineNumber = data.FinelineNumber.fillna(0).astype(int).astype(str)\n",
    "\n",
    "df = pd.concat( [data, pd.get_dummies( data['DepartmentDescription'])], axis=1, join_axes=[data.index]).fillna(0)\n",
    "#df = pd.concat( [df, pd.get_dummies( data['FinelineNumber'])], axis=1, join_axes=[data.index]).fillna(0)\n",
    "\n",
    "df.ix[:, len(data.columns):] = df.ix[:, len(data.columns):].multiply( df['ScanCount'], axis='index')\n",
    "df = df.drop(['DepartmentDescription','FinelineNumber', 'Upc'], axis=1)\n",
    "df = df.groupby(['VisitNumber','TripType']).count()\n",
    "\n",
    "df = df.reset_index().set_index('VisitNumber')\n",
    "print('Using {} features'.format(len(df.columns)-1))\n",
    "df.iloc[0:10]\n",
    "del df\n",
    "df = vector_chunk( data, 1, 100).astype('int8')\n",
    "print('Using {} features'.format(len(df.columns)-1))\n",
    "df.iloc[0:10]\n",
    "print(df.values.nbytes)"
   ]
  },
  {
   "cell_type": "code",
   "execution_count": 10,
   "metadata": {
    "collapsed": false
   },
   "outputs": [],
   "source": [
    "def vector_chunk( data, chunkn, chunksize, test=False):\n",
    "    df = data.iloc[chunkn*chunksize:(chunkn+1)*chunksize]\n",
    "    cols = data.columns.values.tolist() + data.DepartmentDescription.unique().tolist() + sorted(data.FinelineNumber.unique().tolist())\n",
    "    # Create more feature vectors\n",
    "    df = pd.concat( [df, pd.get_dummies( df['DepartmentDescription'])], axis=1, join_axes=[df.index])\n",
    "    df = pd.concat( [df, pd.get_dummies( df['FinelineNumber'])], axis=1, join_axes=[df.index])\n",
    "   \n",
    "    #df.ix[:, 2:] = df.ix[:, 2:].multiply( df['ScanCount'], axis='index')\n",
    "    df = df.drop(['DepartmentDescription','FinelineNumber', 'Upc', 'Weekday'], axis=1)\n",
    "    if not test:\n",
    "        df = df.groupby(['VisitNumber','TripType']).sum()\n",
    "    else:\n",
    "        df = df.groupby('VisitNumber').sum()\n",
    "    df = df.reset_index().set_index('VisitNumber')\n",
    "    \n",
    "    df = df.reindex(columns=cols, fill_value=0)\n",
    "    return df"
   ]
  },
  {
   "cell_type": "code",
   "execution_count": null,
   "metadata": {
    "collapsed": false,
    "scrolled": true
   },
   "outputs": [],
   "source": [
    "f = plt.figure(figsize=(10,15))\n",
    "np.log10(df.ix[:,2:].sum().sort_values()).plot(kind='barh', legend=True)\n",
    "plt.show()"
   ]
  },
  {
   "cell_type": "code",
   "execution_count": null,
   "metadata": {
    "collapsed": true
   },
   "outputs": [],
   "source": [
    "feat_mat = df.as_matrix()\n",
    "\n",
    "ntest = 1000 # Number of tests\n",
    "np_train_labels = feat_mat[:-ntest, 0]\n",
    "np_train = feat_mat[:-ntest:, 1:]\n",
    "\n",
    "np_test_labels = feat_mat[ntest:, 0]\n",
    "np_test = feat_mat[ntest:, 1:]\n",
    "\n",
    "dtrain = xgb.DMatrix( np_train, label=np_train_labels)\n",
    "dtest = xgb.DMatrix( np_test, label=np_test_labels)"
   ]
  },
  {
   "cell_type": "code",
   "execution_count": null,
   "metadata": {
    "collapsed": false
   },
   "outputs": [],
   "source": [
    "evallist  = [(dtest,'eval'), (dtrain,'train')]\n",
    "params = {'nthread':4,\n",
    "          'max_depth':50,\n",
    "          'objective':'multi:softmax',\n",
    "          'num_class':len(tripEnc.classes_),\n",
    "          'eta':0.01,\n",
    "          'eval_metric':'mlogloss'\n",
    "         }\n",
    "model = xgb.train( params, dtrain, 100, evallist, early_stopping_rounds=5)"
   ]
  },
  {
   "cell_type": "markdown",
   "metadata": {},
   "source": [
    "### Create vector set using chunks"
   ]
  },
  {
   "cell_type": "code",
   "execution_count": 5,
   "metadata": {
    "collapsed": false
   },
   "outputs": [
    {
     "name": "stdout",
     "output_type": "stream",
     "text": [
      "Adding chunk 91 of 92, current size: (93681, 5271)"
     ]
    }
   ],
   "source": [
    "CHUNKSIZE = 10000\n",
    "NCHUNKS = len(data)//CHUNKSIZE\n",
    "\n",
    "df = pd.DataFrame()\n",
    "for i in range(NCHUNKS-1):\n",
    "    print('\\rAdding chunk {} of {}, current size: {}'.format(i+1,NCHUNKS,df.shape),end='')\n",
    "    df = pd.concat([ df, vector_chunk( data, i, CHUNKSIZE).astype('int8')])"
   ]
  },
  {
   "cell_type": "code",
   "execution_count": 7,
   "metadata": {
    "collapsed": false
   },
   "outputs": [],
   "source": [
    "df.to_csv('5271features.csv')"
   ]
  },
  {
   "cell_type": "code",
   "execution_count": 8,
   "metadata": {
    "collapsed": true
   },
   "outputs": [],
   "source": [
    "test_mat = vector_chunk(data, NCHUNKS-1, CHUNKSIZE).as_matrix()\n",
    "test_lables = test_mat[:,0]\n",
    "test_data = test_mat[:,1:]\n",
    "dtest = xgb.DMatrix( test_data, label=test_lables)\n",
    "\n",
    "train_mat = df.as_matrix()\n",
    "train_labels = train_mat[:, 0]\n",
    "train_data = train_mat[:, 1:]\n",
    "    \n",
    "dtrain = xgb.DMatrix( train_data, label=train_labels )\n",
    "dtrain.save_binary('5271feat_train.buffer')\n",
    "dtest.save_binary('5731feat_test.buffer')"
   ]
  },
  {
   "cell_type": "code",
   "execution_count": 22,
   "metadata": {
    "collapsed": false
   },
   "outputs": [
    {
     "name": "stderr",
     "output_type": "stream",
     "text": [
      "[0]\teval-mlogloss:2.710440\ttrain-mlogloss:2.659718\n",
      "[1]\teval-mlogloss:2.396241\ttrain-mlogloss:2.317395\n",
      "[2]\teval-mlogloss:2.181865\ttrain-mlogloss:2.073219\n",
      "[3]\teval-mlogloss:2.016610\ttrain-mlogloss:1.880945\n",
      "[4]\teval-mlogloss:1.885049\ttrain-mlogloss:1.721896\n",
      "[5]\teval-mlogloss:1.773282\ttrain-mlogloss:1.586062\n",
      "[6]\teval-mlogloss:1.675664\ttrain-mlogloss:1.468205\n",
      "[7]\teval-mlogloss:1.595426\ttrain-mlogloss:1.364581\n",
      "[8]\teval-mlogloss:1.520149\ttrain-mlogloss:1.270966\n",
      "[9]\teval-mlogloss:1.454299\ttrain-mlogloss:1.187081\n",
      "[10]\teval-mlogloss:1.394405\ttrain-mlogloss:1.111419\n",
      "[11]\teval-mlogloss:1.341440\ttrain-mlogloss:1.042417\n",
      "[12]\teval-mlogloss:1.295760\ttrain-mlogloss:0.980077\n",
      "[13]\teval-mlogloss:1.253207\ttrain-mlogloss:0.923423\n",
      "[14]\teval-mlogloss:1.214554\ttrain-mlogloss:0.870841\n",
      "[15]\teval-mlogloss:1.179652\ttrain-mlogloss:0.822836\n",
      "[16]\teval-mlogloss:1.146909\ttrain-mlogloss:0.778297\n",
      "[17]\teval-mlogloss:1.117088\ttrain-mlogloss:0.737399\n",
      "[18]\teval-mlogloss:1.091715\ttrain-mlogloss:0.699373\n",
      "[19]\teval-mlogloss:1.066686\ttrain-mlogloss:0.664430\n",
      "[20]\teval-mlogloss:1.043780\ttrain-mlogloss:0.631649\n",
      "[21]\teval-mlogloss:1.022934\ttrain-mlogloss:0.601352\n",
      "[22]\teval-mlogloss:1.003621\ttrain-mlogloss:0.573137\n",
      "[23]\teval-mlogloss:0.986124\ttrain-mlogloss:0.546595\n",
      "[24]\teval-mlogloss:0.969518\ttrain-mlogloss:0.522127\n",
      "[25]\teval-mlogloss:0.954217\ttrain-mlogloss:0.499441\n",
      "[26]\teval-mlogloss:0.941683\ttrain-mlogloss:0.478335\n",
      "[27]\teval-mlogloss:0.929273\ttrain-mlogloss:0.458582\n",
      "[28]\teval-mlogloss:0.916710\ttrain-mlogloss:0.440229\n",
      "[29]\teval-mlogloss:0.905230\ttrain-mlogloss:0.423210\n",
      "[30]\teval-mlogloss:0.894436\ttrain-mlogloss:0.407135\n",
      "[31]\teval-mlogloss:0.884883\ttrain-mlogloss:0.391776\n",
      "[32]\teval-mlogloss:0.876543\ttrain-mlogloss:0.377775\n",
      "[33]\teval-mlogloss:0.869060\ttrain-mlogloss:0.364626\n",
      "[34]\teval-mlogloss:0.862354\ttrain-mlogloss:0.352194\n",
      "[35]\teval-mlogloss:0.855103\ttrain-mlogloss:0.340555\n",
      "[36]\teval-mlogloss:0.848458\ttrain-mlogloss:0.329589\n",
      "[37]\teval-mlogloss:0.841713\ttrain-mlogloss:0.319295\n",
      "[38]\teval-mlogloss:0.835781\ttrain-mlogloss:0.309791\n",
      "[39]\teval-mlogloss:0.830479\ttrain-mlogloss:0.300705\n",
      "[40]\teval-mlogloss:0.825678\ttrain-mlogloss:0.292252\n",
      "[41]\teval-mlogloss:0.821145\ttrain-mlogloss:0.284249\n",
      "[42]\teval-mlogloss:0.817140\ttrain-mlogloss:0.276604\n",
      "[43]\teval-mlogloss:0.812701\ttrain-mlogloss:0.269445\n",
      "[44]\teval-mlogloss:0.809616\ttrain-mlogloss:0.262799\n",
      "[45]\teval-mlogloss:0.806844\ttrain-mlogloss:0.256439\n",
      "[46]\teval-mlogloss:0.803361\ttrain-mlogloss:0.250379\n",
      "[47]\teval-mlogloss:0.800655\ttrain-mlogloss:0.244577\n",
      "[48]\teval-mlogloss:0.798487\ttrain-mlogloss:0.239043\n",
      "[49]\teval-mlogloss:0.796388\ttrain-mlogloss:0.233738\n",
      "[50]\teval-mlogloss:0.794299\ttrain-mlogloss:0.228536\n",
      "[51]\teval-mlogloss:0.793124\ttrain-mlogloss:0.223768\n",
      "[52]\teval-mlogloss:0.791393\ttrain-mlogloss:0.219016\n",
      "[53]\teval-mlogloss:0.790202\ttrain-mlogloss:0.214638\n",
      "[54]\teval-mlogloss:0.788039\ttrain-mlogloss:0.210507\n",
      "[55]\teval-mlogloss:0.786893\ttrain-mlogloss:0.206435\n",
      "[56]\teval-mlogloss:0.785163\ttrain-mlogloss:0.202709\n",
      "[57]\teval-mlogloss:0.783602\ttrain-mlogloss:0.199154\n",
      "[58]\teval-mlogloss:0.781958\ttrain-mlogloss:0.195645\n",
      "[59]\teval-mlogloss:0.780212\ttrain-mlogloss:0.192282\n",
      "[60]\teval-mlogloss:0.778662\ttrain-mlogloss:0.189048\n",
      "[61]\teval-mlogloss:0.777498\ttrain-mlogloss:0.185929\n",
      "[62]\teval-mlogloss:0.776156\ttrain-mlogloss:0.183036\n",
      "[63]\teval-mlogloss:0.774793\ttrain-mlogloss:0.180155\n",
      "[64]\teval-mlogloss:0.774195\ttrain-mlogloss:0.177474\n",
      "[65]\teval-mlogloss:0.773133\ttrain-mlogloss:0.174859\n",
      "[66]\teval-mlogloss:0.772308\ttrain-mlogloss:0.172370\n",
      "[67]\teval-mlogloss:0.771778\ttrain-mlogloss:0.169809\n",
      "[68]\teval-mlogloss:0.771126\ttrain-mlogloss:0.167306\n",
      "[69]\teval-mlogloss:0.770691\ttrain-mlogloss:0.165014\n",
      "[70]\teval-mlogloss:0.770049\ttrain-mlogloss:0.162856\n",
      "[71]\teval-mlogloss:0.769469\ttrain-mlogloss:0.160691\n",
      "[72]\teval-mlogloss:0.768601\ttrain-mlogloss:0.158719\n",
      "[73]\teval-mlogloss:0.768091\ttrain-mlogloss:0.156642\n",
      "[74]\teval-mlogloss:0.767556\ttrain-mlogloss:0.154850\n",
      "[75]\teval-mlogloss:0.766992\ttrain-mlogloss:0.153025\n",
      "[76]\teval-mlogloss:0.766707\ttrain-mlogloss:0.151227\n",
      "[77]\teval-mlogloss:0.766104\ttrain-mlogloss:0.149519\n",
      "[78]\teval-mlogloss:0.765600\ttrain-mlogloss:0.147831\n",
      "[79]\teval-mlogloss:0.765128\ttrain-mlogloss:0.146134\n",
      "[80]\teval-mlogloss:0.764957\ttrain-mlogloss:0.144595\n",
      "[81]\teval-mlogloss:0.764501\ttrain-mlogloss:0.143066\n",
      "[82]\teval-mlogloss:0.764068\ttrain-mlogloss:0.141624\n",
      "[83]\teval-mlogloss:0.763695\ttrain-mlogloss:0.140139\n",
      "[84]\teval-mlogloss:0.763766\ttrain-mlogloss:0.138740\n",
      "[85]\teval-mlogloss:0.763600\ttrain-mlogloss:0.137447\n",
      "[86]\teval-mlogloss:0.763733\ttrain-mlogloss:0.136127\n",
      "[87]\teval-mlogloss:0.763586\ttrain-mlogloss:0.134771\n",
      "[88]\teval-mlogloss:0.763516\ttrain-mlogloss:0.133458\n",
      "[89]\teval-mlogloss:0.763575\ttrain-mlogloss:0.132285\n",
      "[90]\teval-mlogloss:0.763425\ttrain-mlogloss:0.131093\n",
      "[91]\teval-mlogloss:0.762694\ttrain-mlogloss:0.129962\n",
      "[92]\teval-mlogloss:0.763265\ttrain-mlogloss:0.128727\n",
      "[93]\teval-mlogloss:0.762558\ttrain-mlogloss:0.127638\n",
      "[94]\teval-mlogloss:0.762235\ttrain-mlogloss:0.126614\n",
      "[95]\teval-mlogloss:0.762087\ttrain-mlogloss:0.125521\n",
      "[96]\teval-mlogloss:0.762496\ttrain-mlogloss:0.124531\n",
      "[97]\teval-mlogloss:0.762281\ttrain-mlogloss:0.123528\n",
      "[98]\teval-mlogloss:0.762626\ttrain-mlogloss:0.122589\n",
      "[99]\teval-mlogloss:0.762697\ttrain-mlogloss:0.121673\n"
     ]
    }
   ],
   "source": [
    "params = {'nthread':4,\n",
    "          'max_depth':50,\n",
    "          'objective':'multi:softmax',\n",
    "          'num_class':len(tripEnc.classes_),\n",
    "          'eta':0.1,\n",
    "          'eval_metric':'mlogloss'\n",
    "         }\n",
    "\n",
    "evallist  = [(dtest,'eval'), (dtrain,'train')]\n",
    "model = xgb.train( params, dtrain, 100, evallist)"
   ]
  },
  {
   "cell_type": "code",
   "execution_count": null,
   "metadata": {
    "collapsed": true
   },
   "outputs": [],
   "source": [
    "dtrain = xgb.DMatrix('5271feat_train.buffer')\n",
    "dtest = xgb.DMatrix('5731feat_test.buffer')"
   ]
  },
  {
   "cell_type": "code",
   "execution_count": null,
   "metadata": {
    "collapsed": false
   },
   "outputs": [],
   "source": [
    "model.save_model('dummies.model')\n",
    "#model.dump_model('dumpdummies.raw.txt')"
   ]
  },
  {
   "cell_type": "markdown",
   "metadata": {},
   "source": [
    "### Prepare testdata for more features using chunking"
   ]
  },
  {
   "cell_type": "code",
   "execution_count": 16,
   "metadata": {
    "collapsed": false
   },
   "outputs": [
    {
     "name": "stdout",
     "output_type": "stream",
     "text": [
      "Adding chunk 64 of 64, current size: (94522, 5271)"
     ]
    }
   ],
   "source": [
    "data_test = pd.read_csv('test.csv')\n",
    "\n",
    "data_test['Weekday'] = pd.Series(dayEnc.transform(data_test.Weekday.tolist()), index=data_test.index)\n",
    "data_test.FinelineNumber = data_test.FinelineNumber.fillna(0).astype(int).astype(str)\n",
    "\n",
    "CHUNKSIZE = 10000\n",
    "NCHUNKS = len(data)//CHUNKSIZE\n",
    "\n",
    "df_test = pd.DataFrame()\n",
    "for i in range(NCHUNKS):\n",
    "    print('\\rAdding chunk {} of {}, current size: {}'.format(i+1,NCHUNKS,df.shape),end='')\n",
    "    df_test = pd.concat([ df_test, vector_chunk( data_test, i, CHUNKSIZE, True).astype('int8')])"
   ]
  },
  {
   "cell_type": "code",
   "execution_count": 17,
   "metadata": {
    "collapsed": true
   },
   "outputs": [],
   "source": [
    "df_test.to_csv('5271features_test.csv')"
   ]
  },
  {
   "cell_type": "code",
   "execution_count": 19,
   "metadata": {
    "collapsed": false
   },
   "outputs": [],
   "source": [
    "test_feat_mat = xgb.DMatrix( df_test.as_matrix() )"
   ]
  },
  {
   "cell_type": "markdown",
   "metadata": {},
   "source": [
    "### Prepare the test data"
   ]
  },
  {
   "cell_type": "code",
   "execution_count": 11,
   "metadata": {
    "collapsed": true
   },
   "outputs": [
    {
     "ename": "MemoryError",
     "evalue": "",
     "output_type": "error",
     "traceback": [
      "\u001b[1;31m---------------------------------------------------------------------------\u001b[0m",
      "\u001b[1;31mMemoryError\u001b[0m                               Traceback (most recent call last)",
      "\u001b[1;32m<ipython-input-11-1ecd6e4fbe36>\u001b[0m in \u001b[0;36m<module>\u001b[1;34m()\u001b[0m\n\u001b[0;32m      1\u001b[0m \u001b[0mdata_test\u001b[0m \u001b[1;33m=\u001b[0m \u001b[0mpd\u001b[0m\u001b[1;33m.\u001b[0m\u001b[0mread_csv\u001b[0m\u001b[1;33m(\u001b[0m\u001b[1;34m'test.csv'\u001b[0m\u001b[1;33m)\u001b[0m\u001b[1;33m\u001b[0m\u001b[0m\n\u001b[0;32m      2\u001b[0m \u001b[1;33m\u001b[0m\u001b[0m\n\u001b[1;32m----> 3\u001b[1;33m \u001b[0mdf_test\u001b[0m \u001b[1;33m=\u001b[0m \u001b[0mvector_chunk\u001b[0m\u001b[1;33m(\u001b[0m\u001b[0mdata_test\u001b[0m\u001b[1;33m,\u001b[0m \u001b[1;36m0\u001b[0m\u001b[1;33m,\u001b[0m \u001b[0mlen\u001b[0m\u001b[1;33m(\u001b[0m\u001b[0mdata_test\u001b[0m\u001b[1;33m)\u001b[0m\u001b[1;33m,\u001b[0m \u001b[1;32mTrue\u001b[0m\u001b[1;33m)\u001b[0m\u001b[1;33m\u001b[0m\u001b[0m\n\u001b[0m\u001b[0;32m      4\u001b[0m \u001b[1;33m\u001b[0m\u001b[0m\n\u001b[0;32m      5\u001b[0m \u001b[1;31m#df_test['TripType'] = pd.Series(tripEnc.transform(df_test.TripType.tolist()), index=df.index)\u001b[0m\u001b[1;33m\u001b[0m\u001b[1;33m\u001b[0m\u001b[0m\n",
      "\u001b[1;32m<ipython-input-10-610f83289d38>\u001b[0m in \u001b[0;36mvector_chunk\u001b[1;34m(data, chunkn, chunksize, test)\u001b[0m\n\u001b[0;32m      4\u001b[0m     \u001b[1;31m# Create more feature vectors\u001b[0m\u001b[1;33m\u001b[0m\u001b[1;33m\u001b[0m\u001b[0m\n\u001b[0;32m      5\u001b[0m     \u001b[0mdf\u001b[0m \u001b[1;33m=\u001b[0m \u001b[0mpd\u001b[0m\u001b[1;33m.\u001b[0m\u001b[0mconcat\u001b[0m\u001b[1;33m(\u001b[0m \u001b[1;33m[\u001b[0m\u001b[0mdf\u001b[0m\u001b[1;33m,\u001b[0m \u001b[0mpd\u001b[0m\u001b[1;33m.\u001b[0m\u001b[0mget_dummies\u001b[0m\u001b[1;33m(\u001b[0m \u001b[0mdf\u001b[0m\u001b[1;33m[\u001b[0m\u001b[1;34m'DepartmentDescription'\u001b[0m\u001b[1;33m]\u001b[0m\u001b[1;33m)\u001b[0m\u001b[1;33m]\u001b[0m\u001b[1;33m,\u001b[0m \u001b[0maxis\u001b[0m\u001b[1;33m=\u001b[0m\u001b[1;36m1\u001b[0m\u001b[1;33m,\u001b[0m \u001b[0mjoin_axes\u001b[0m\u001b[1;33m=\u001b[0m\u001b[1;33m[\u001b[0m\u001b[0mdf\u001b[0m\u001b[1;33m.\u001b[0m\u001b[0mindex\u001b[0m\u001b[1;33m]\u001b[0m\u001b[1;33m)\u001b[0m\u001b[1;33m\u001b[0m\u001b[0m\n\u001b[1;32m----> 6\u001b[1;33m     \u001b[0mdf\u001b[0m \u001b[1;33m=\u001b[0m \u001b[0mpd\u001b[0m\u001b[1;33m.\u001b[0m\u001b[0mconcat\u001b[0m\u001b[1;33m(\u001b[0m \u001b[1;33m[\u001b[0m\u001b[0mdf\u001b[0m\u001b[1;33m,\u001b[0m \u001b[0mpd\u001b[0m\u001b[1;33m.\u001b[0m\u001b[0mget_dummies\u001b[0m\u001b[1;33m(\u001b[0m \u001b[0mdf\u001b[0m\u001b[1;33m[\u001b[0m\u001b[1;34m'FinelineNumber'\u001b[0m\u001b[1;33m]\u001b[0m\u001b[1;33m)\u001b[0m\u001b[1;33m]\u001b[0m\u001b[1;33m,\u001b[0m \u001b[0maxis\u001b[0m\u001b[1;33m=\u001b[0m\u001b[1;36m1\u001b[0m\u001b[1;33m,\u001b[0m \u001b[0mjoin_axes\u001b[0m\u001b[1;33m=\u001b[0m\u001b[1;33m[\u001b[0m\u001b[0mdf\u001b[0m\u001b[1;33m.\u001b[0m\u001b[0mindex\u001b[0m\u001b[1;33m]\u001b[0m\u001b[1;33m)\u001b[0m\u001b[1;33m\u001b[0m\u001b[0m\n\u001b[0m\u001b[0;32m      7\u001b[0m \u001b[1;33m\u001b[0m\u001b[0m\n\u001b[0;32m      8\u001b[0m     \u001b[1;31m#df.ix[:, 2:] = df.ix[:, 2:].multiply( df['ScanCount'], axis='index')\u001b[0m\u001b[1;33m\u001b[0m\u001b[1;33m\u001b[0m\u001b[0m\n",
      "\u001b[1;32m/usr/lib/python3.5/site-packages/pandas/core/reshape.py\u001b[0m in \u001b[0;36mget_dummies\u001b[1;34m(data, prefix, prefix_sep, dummy_na, columns, sparse)\u001b[0m\n\u001b[0;32m   1072\u001b[0m     \u001b[1;32melse\u001b[0m\u001b[1;33m:\u001b[0m\u001b[1;33m\u001b[0m\u001b[0m\n\u001b[0;32m   1073\u001b[0m         result = _get_dummies_1d(data, prefix, prefix_sep, dummy_na,\n\u001b[1;32m-> 1074\u001b[1;33m                                  sparse=sparse)\n\u001b[0m\u001b[0;32m   1075\u001b[0m     \u001b[1;32mreturn\u001b[0m \u001b[0mresult\u001b[0m\u001b[1;33m\u001b[0m\u001b[0m\n\u001b[0;32m   1076\u001b[0m \u001b[1;33m\u001b[0m\u001b[0m\n",
      "\u001b[1;32m/usr/lib/python3.5/site-packages/pandas/core/reshape.py\u001b[0m in \u001b[0;36m_get_dummies_1d\u001b[1;34m(data, prefix, prefix_sep, dummy_na, sparse)\u001b[0m\n\u001b[0;32m   1128\u001b[0m \u001b[1;33m\u001b[0m\u001b[0m\n\u001b[0;32m   1129\u001b[0m     \u001b[1;32melse\u001b[0m\u001b[1;33m:\u001b[0m\u001b[1;33m\u001b[0m\u001b[0m\n\u001b[1;32m-> 1130\u001b[1;33m         \u001b[0mdummy_mat\u001b[0m \u001b[1;33m=\u001b[0m \u001b[0mnp\u001b[0m\u001b[1;33m.\u001b[0m\u001b[0meye\u001b[0m\u001b[1;33m(\u001b[0m\u001b[0mnumber_of_cols\u001b[0m\u001b[1;33m)\u001b[0m\u001b[1;33m.\u001b[0m\u001b[0mtake\u001b[0m\u001b[1;33m(\u001b[0m\u001b[0mcodes\u001b[0m\u001b[1;33m,\u001b[0m \u001b[0maxis\u001b[0m\u001b[1;33m=\u001b[0m\u001b[1;36m0\u001b[0m\u001b[1;33m)\u001b[0m\u001b[1;33m\u001b[0m\u001b[0m\n\u001b[0m\u001b[0;32m   1131\u001b[0m \u001b[1;33m\u001b[0m\u001b[0m\n\u001b[0;32m   1132\u001b[0m         \u001b[1;32mif\u001b[0m \u001b[1;32mnot\u001b[0m \u001b[0mdummy_na\u001b[0m\u001b[1;33m:\u001b[0m\u001b[1;33m\u001b[0m\u001b[0m\n",
      "\u001b[1;31mMemoryError\u001b[0m: "
     ]
    }
   ],
   "source": [
    "data_test = pd.read_csv('test.csv')\n",
    "\n",
    "df_test = pd.concat( [data_test, pd.get_dummies( data_test['DepartmentDescription'])], axis=1, join_axes=[data_test.index]).fillna(0)\n",
    "df_test.ix[:, len(data_test.columns):] = df_test.ix[:, len(data_test.columns):].multiply( df_test['ScanCount'], axis='index')\n",
    "df_test = df_test.drop(['DepartmentDescription','FinelineNumber', 'Upc'], axis=1)\n",
    "df_test = df_test.groupby(['VisitNumber']).sum()\n",
    "\n",
    "#df_test['TripType'] = pd.Series(tripEnc.transform(df_test.TripType.tolist()), index=df.index)\n",
    "\n",
    "test_feat_mat = xgb.DMatrix( df_test.as_matrix() )"
   ]
  },
  {
   "cell_type": "markdown",
   "metadata": {},
   "source": [
    "### Run the test data through the model"
   ]
  },
  {
   "cell_type": "code",
   "execution_count": 23,
   "metadata": {
    "collapsed": false
   },
   "outputs": [],
   "source": [
    "df_prediction = pd.DataFrame( model.predict( test_feat_mat ), columns=['TripType'], index=df_test.index)"
   ]
  },
  {
   "cell_type": "markdown",
   "metadata": {},
   "source": [
    "#### Look at the distributions of the train data to the test data ( they should be similiar, probably)"
   ]
  },
  {
   "cell_type": "code",
   "execution_count": 24,
   "metadata": {
    "collapsed": false
   },
   "outputs": [
    {
     "data": {
      "image/png": "[encoded data removed]",
      "text/plain": [
       "<matplotlib.figure.Figure at 0x7f5ad8b1b400>"
      ]
     },
     "metadata": {},
     "output_type": "display_data"
    }
   ],
   "source": [
    "f, ax = plt.subplots(2,1, figsize=(10,6))\n",
    "\n",
    "df.TripType.hist(bins=df.TripType.nunique(), ax=ax[0])\n",
    "df_prediction.hist(bins=df.TripType.nunique(), ax=ax[1])\n",
    "ax[0].set_title('Training Distribution')\n",
    "ax[1].set_title('Model Distribution')\n",
    "ax[1].set_xlabel('Trip Type')\n",
    "ax[0].set_ylabel('Count')\n",
    "ax[1].set_ylabel('Count')\n",
    "plt.show()"
   ]
  },
  {
   "cell_type": "code",
   "execution_count": null,
   "metadata": {
    "collapsed": false
   },
   "outputs": [],
   "source": [
    "# Re-encode trip types\n",
    "reEnc = tripEnc.inverse_transform( df_prediction.TripType.astype(int) )\n",
    "cols = [\"VisitNumber\"] + [ \"TripType_{}\".format(i) for i in sorted(tripEnc.classes_) ]\n",
    "\n",
    "tripEnc.classes_\n",
    "\n",
    "new_df = pd.concat([ pd.DataFrame(columns=cols), pd.get_dummies(  reEnc, prefix=\"TripType\")])\n",
    "new_df = new_df.fillna(0)\n",
    "new_df.VisitNumber = df_prediction.index.values\n",
    "new_df = new_df.set_index('VisitNumber')\n",
    "new_df = new_df[cols[1:]]\n",
    "print(len(new_df.columns))\n",
    "new_df.astype(int).to_csv('output.csv', )\n",
    "new_df.iloc[0:10]"
   ]
  },
  {
   "cell_type": "code",
   "execution_count": null,
   "metadata": {
    "collapsed": true
   },
   "outputs": [],
   "source": []
  }
 ],
 "metadata": {
  "kernelspec": {
   "display_name": "Python 3",
   "language": "python",
   "name": "python3"
  },
  "language_info": {
   "codemirror_mode": {
    "name": "ipython",
    "version": 3
   },
   "file_extension": ".py",
   "mimetype": "text/x-python",
   "name": "python",
   "nbconvert_exporter": "python",
   "pygments_lexer": "ipython3",
   "version": "3.5.0"
  }
 },
 "nbformat": 4,
 "nbformat_minor": 0
}
